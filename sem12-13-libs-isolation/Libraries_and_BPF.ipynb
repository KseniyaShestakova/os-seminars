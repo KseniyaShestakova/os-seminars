{
 "cells": [
  {
   "cell_type": "markdown",
   "id": "9cecc9f5",
   "metadata": {},
   "source": [
    "# Библиотеки функций и их загрузка\n",
    "\n",
    "## Функции и указатели на них\n",
    "Код программ в системах с Фон-Неймановской архитектурой размещается в памяти точно так же, как и обычные данные.\n",
    "\n",
    "Таким образом, он может быть загружен или сгенерирован во время работы программы. Некоторые процессоры позволяют контролировать, какие участки памяти могут быть выполняемые, а какие - нет, и кроме того, это контролируется ядром. Таким образом, выполнить код можно только при условии, что он находится в страницах памяти, помеченных как выполняемые.\n",
    "\n",
    "Поэтому существует такое понятие, как указатель на функцию.\n",
    "\n",
    "Общий вид указателя на функцию:\n",
    "```\n",
    "typedef ResType (*TypeName)(FuncParameters...);\n",
    "```\n",
    "\n",
    "Конкретный пример:\n",
    "```\n",
    "int (*p_function)(int a, int b);\n",
    "```\n",
    "\n",
    "## Библиотеки\n",
    " * содержит таблицу доступных *символов* - функций и глобальных переменных (можно явно указать её создание опцией `-E`);\n",
    " * может быть размещена произвольным образом, поэтому программа обязана быть скомпилирована в позиционно-независимый код с опцией `-fPIC` или `-fPIE`;\n",
    " * не обязана иметь точку входа в программу - функции `_start` и `main`.\n",
    "\n",
    "Компиляция библиотеки производится с помощью опции `-shared`:\n",
    "```\n",
    " > gcc -fPIC -shared -o libmy_great_library.so lib.c\n",
    "```\n",
    "\n",
    "В Linux и xBSD для именования библиотек используется соглашение `libИМЯ.so`, для Mac - `libИМЯ.dynlib`, для Windows - `ИМЯ.dll`.\n",
    "\n",
    "Связывание программы с библиотекой подразумевает опции:\n",
    " * `-lИМЯ` - указыватся имя библиотеки без префикса `lib` и суффикса `.so`;\n",
    " * `-LПУТЬ` - указывается имя каталога для поиска используемых библиотек.\n",
    "\n",
    "## Позиционно-независимый исполняемый файл\n",
    "\n",
    "Опция `-fPIE` компилятора указывает на то, что нужно сгенерировать позиционно-независимый код для `main` и `_start`, а опция `-pie` - о том, что нужно при линковке указать в ELF-файле, что он позиционно-независимый.\n",
    "\n",
    "Позиционно-независимый выполняемый файл в современных системах размещается по случайному адресу.\n",
    "\n",
    "Если позиционно-независимый исполняемый файл ещё и содержит таблицу экспортируемых символов, то он одновременно является и библиотекой. Если отсутствует опция `-shared`, то компилятор собирает программу, удаляя из неё таблицу символов. Явным образом сохранение таблицы символов задается опцией `-Wl,-E`.\n",
    "\n",
    "Пример:\n",
    "```\n",
    "  # файл abc.c содержит int main() { puts(\"abc\"); }\n",
    "  > gcc -o program -fPIE -pie -Wl,-E abc.c\n",
    "\n",
    "  # программа может выполняться как обычная программа\n",
    "  > ./program\n",
    "  abc\n",
    "\n",
    "  # и может быть использована как библиотека\n",
    "  > python3\n",
    "  >>> from ctypes import cdll, c_int\n",
    "  >>> lib = cdll.LoadLibrary(\"./program\")\n",
    "  >>> main = lib[\"main\"]\n",
    "  >>> main.restype = c_int\n",
    "  >>> ret = main()\n",
    "  abc  \n",
    "\n",
    " ```\n",
    " \n",
    " ## Примеры\n",
    " Рассмотрим базовый случай того, что такое библиотека. "
   ]
  },
  {
   "cell_type": "code",
   "execution_count": 7,
   "id": "bdb3c6b2",
   "metadata": {},
   "outputs": [
    {
     "name": "stdout",
     "output_type": "stream",
     "text": [
      "Overwriting foo.h\n"
     ]
    }
   ],
   "source": [
    "%%file foo.h\n",
    "\n",
    "int foo(int a);"
   ]
  },
  {
   "cell_type": "code",
   "execution_count": 8,
   "id": "15b39e42",
   "metadata": {},
   "outputs": [
    {
     "name": "stdout",
     "output_type": "stream",
     "text": [
      "Writing foo.c\n"
     ]
    }
   ],
   "source": [
    "%%file foo.c\n",
    "\n",
    "int foo(int a) {\n",
    "    return a + 42;\n",
    "}"
   ]
  },
  {
   "cell_type": "code",
   "execution_count": 12,
   "id": "98c38058",
   "metadata": {},
   "outputs": [
    {
     "name": "stdout",
     "output_type": "stream",
     "text": [
      "Overwriting main.c\n"
     ]
    }
   ],
   "source": [
    "%%file main.c\n",
    "\n",
    "#include <stdio.h>\n",
    "#include \"foo.h\"\n",
    "\n",
    "int main() {\n",
    "    int a = -41;\n",
    "    printf(\"%d\\n\", foo(a));\n",
    "}"
   ]
  },
  {
   "cell_type": "markdown",
   "id": "c101294e",
   "metadata": {},
   "source": [
    "Как собрать это вместе?"
   ]
  },
  {
   "cell_type": "markdown",
   "id": "6affc085",
   "metadata": {},
   "source": [
    "### Способ 1. Просто вместе скомпилировать"
   ]
  },
  {
   "cell_type": "code",
   "execution_count": 13,
   "id": "1f60afed",
   "metadata": {},
   "outputs": [
    {
     "name": "stdout",
     "output_type": "stream",
     "text": [
      "1\n"
     ]
    }
   ],
   "source": [
    "%%bash\n",
    "gcc main.c foo.c -o simple_var\n",
    "./simple_var"
   ]
  },
  {
   "cell_type": "markdown",
   "id": "4f4e83ed",
   "metadata": {},
   "source": [
    "Но что, если мы хотим один раз скомпилировать реализацию функции `foo` (представим, что она долго компилируется) и потом просто переиспользовать готовый код? Для этого существуют статические и динамические библиотеки."
   ]
  },
  {
   "cell_type": "markdown",
   "id": "e14b44bb",
   "metadata": {},
   "source": [
    "### Способ 2. Статические библиотеки"
   ]
  },
  {
   "cell_type": "code",
   "execution_count": 16,
   "id": "f51e64e0",
   "metadata": {},
   "outputs": [
    {
     "name": "stdout",
     "output_type": "stream",
     "text": [
      "1\n"
     ]
    }
   ],
   "source": [
    "%%bash\n",
    "gcc -c foo.c -o foo.o # создаем объектный файл\n",
    "ar rcs libfoo.a foo.o # создаем статическую библиотеку libfoo\n",
    "gcc main.c -L. libfoo.a -o with_static # компилируем с main.c\n",
    "./with_static"
   ]
  },
  {
   "cell_type": "markdown",
   "id": "46bd6a1b",
   "metadata": {},
   "source": [
    "`-L` указывает путь до директории, в которой нужно искать код подгружаемой библиотеки.\n",
    "\n",
    "Код статической библиотеки при линковке будет полностью скопирован в код итоговой программы. Если бы все библиотеки подгружались статически, то было бы много дубликатов одного и того же кода, т.е. память бы использовалась совершенно неэффективно. Решение этой проблемы - *динамические (разделяемые)* библиотеки."
   ]
  },
  {
   "cell_type": "markdown",
   "id": "0b8e2ed5",
   "metadata": {},
   "source": [
    "### Способ 3. Динамические библиотеки"
   ]
  },
  {
   "cell_type": "code",
   "execution_count": 36,
   "id": "1275c39c",
   "metadata": {},
   "outputs": [],
   "source": [
    "%%bash\n",
    "gcc -Wall -shared -fPIC foo.c -o libfoo.so"
   ]
  },
  {
   "cell_type": "markdown",
   "id": "86f28801",
   "metadata": {},
   "source": [
    "Для того, чтобы линкер нашел нашу библиотеку `lobfoo.so`, нужно указать путь до директории, содержащей его, в переменной `LD_LIBRARY_PATH`."
   ]
  },
  {
   "cell_type": "code",
   "execution_count": 38,
   "id": "a1c7d29e",
   "metadata": {},
   "outputs": [
    {
     "name": "stdout",
     "output_type": "stream",
     "text": [
      "://home/xxeniash/os-seminars/sem12-13-libs-isolation/\n",
      "1\n"
     ]
    }
   ],
   "source": [
    "%%bash\n",
    "export LD_LIBRARY_PATH=$LD_LIBRARY_PATH://home/xxeniash/os-seminars/sem12-13-libs-isolation/\n",
    "echo $LD_LIBRARY_PATH\n",
    "gcc main.c -L. -lfoo -o with_shared\n",
    "./with_shared"
   ]
  },
  {
   "cell_type": "markdown",
   "id": "9250edae",
   "metadata": {},
   "source": [
    "Мы разобрались с двумя видами библиотек. Теперь посмотрим еще на другие интересные способы их использования\n",
    "\n",
    "### Подгрузка динамической библиотеки из python"
   ]
  },
  {
   "cell_type": "code",
   "execution_count": 41,
   "id": "a84fea0f",
   "metadata": {},
   "outputs": [
    {
     "name": "stdout",
     "output_type": "stream",
     "text": [
      "Overwriting sum.c\n"
     ]
    }
   ],
   "source": [
    "%%file sum.c\n",
    "\n",
    "int sum_int(int a, int b) {\n",
    "    return a + b;\n",
    "}\n",
    "\n",
    "float sum_float(float a, float b) {\n",
    "    return a + b;\n",
    "}"
   ]
  },
  {
   "cell_type": "markdown",
   "id": "5aa4034a",
   "metadata": {},
   "source": [
    "Соберем это в динамическую библиотеку."
   ]
  },
  {
   "cell_type": "code",
   "execution_count": 42,
   "id": "ebf8dc94",
   "metadata": {},
   "outputs": [],
   "source": [
    "%%bash\n",
    "gcc -Wall -shared -fPIC sum.c -o libsum.so"
   ]
  },
  {
   "cell_type": "markdown",
   "id": "71327f5b",
   "metadata": {},
   "source": [
    "Теперь воспользуемся этой библиотекой для вычислений из кода на python."
   ]
  },
  {
   "cell_type": "code",
   "execution_count": 47,
   "id": "a489efc4",
   "metadata": {},
   "outputs": [
    {
     "name": "stdout",
     "output_type": "stream",
     "text": [
      "7\n",
      "0\n",
      "7.0\n"
     ]
    }
   ],
   "source": [
    "import ctypes\n",
    "\n",
    "lib = ctypes.CDLL(\"./libsum.so\")\n",
    "print(lib.sum_int(3, 4)) # По умолчанию считает типы int'ами, поэтому в этом случае все хорошо\n",
    "print(lib.sum_float(3, 4)) # А здесь python передает в функцию инты, а она принимает float'ы. Тут может нарушаться соглашение о вызовах и происходить что угодно\n",
    "\n",
    "# Скажем, какие на самом деле типы в сигнатуре функции\n",
    "lib.sum_float.argtypes = [ctypes.c_float, ctypes.c_float]\n",
    "lib.sum_float.restype = ctypes.c_float\n",
    "print(lib.sum_float(3, 4)) # Теперь все работает хорошо"
   ]
  },
  {
   "cell_type": "markdown",
   "id": "27db061d",
   "metadata": {},
   "source": [
    "## Таблицы символов\n",
    "\n",
    "Посмотрим на таблицы символов для двух только что скомпилированных библиотек."
   ]
  },
  {
   "cell_type": "code",
   "execution_count": 48,
   "id": "bbd9bc8c",
   "metadata": {},
   "outputs": [
    {
     "name": "stdout",
     "output_type": "stream",
     "text": [
      "\n",
      "libfoo.so:     file format elf64-x86-64\n",
      "\n",
      "SYMBOL TABLE:\n",
      "0000000000000000 l    df *ABS*\t0000000000000000 crtstuff.c\n",
      "0000000000001040 l     F .text\t0000000000000000 deregister_tm_clones\n",
      "0000000000001070 l     F .text\t0000000000000000 register_tm_clones\n",
      "00000000000010b0 l     F .text\t0000000000000000 __do_global_dtors_aux\n",
      "0000000000004020 l     O .bss\t0000000000000001 completed.0\n",
      "0000000000003e88 l     O .fini_array\t0000000000000000 __do_global_dtors_aux_fini_array_entry\n",
      "00000000000010f0 l     F .text\t0000000000000000 frame_dummy\n",
      "0000000000003e80 l     O .init_array\t0000000000000000 __frame_dummy_init_array_entry\n",
      "0000000000000000 l    df *ABS*\t0000000000000000 foo.c\n",
      "0000000000000000 l    df *ABS*\t0000000000000000 crtstuff.c\n",
      "00000000000020a0 l     O .eh_frame\t0000000000000000 __FRAME_END__\n",
      "0000000000000000 l    df *ABS*\t0000000000000000 \n",
      "0000000000003e90 l     O .dynamic\t0000000000000000 _DYNAMIC\n",
      "0000000000004020 l     O .data\t0000000000000000 __TMC_END__\n",
      "0000000000004018 l     O .data\t0000000000000000 __dso_handle\n",
      "0000000000001000 l     F .init\t0000000000000000 _init\n",
      "0000000000002000 l       .eh_frame_hdr\t0000000000000000 __GNU_EH_FRAME_HDR\n",
      "000000000000110c l     F .fini\t0000000000000000 _fini\n",
      "0000000000004000 l     O .got.plt\t0000000000000000 _GLOBAL_OFFSET_TABLE_\n",
      "0000000000000000  w      *UND*\t0000000000000000 __cxa_finalize\n",
      "0000000000000000  w      *UND*\t0000000000000000 _ITM_registerTMCloneTable\n",
      "0000000000000000  w      *UND*\t0000000000000000 _ITM_deregisterTMCloneTable\n",
      "00000000000010f9 g     F .text\t0000000000000013 foo\n",
      "0000000000000000  w      *UND*\t0000000000000000 __gmon_start__\n",
      "\n",
      "\n"
     ]
    }
   ],
   "source": [
    "%%bash\n",
    "objdump -t libfoo.so "
   ]
  },
  {
   "cell_type": "code",
   "execution_count": 50,
   "id": "3892ae11",
   "metadata": {
    "scrolled": true
   },
   "outputs": [
    {
     "name": "stdout",
     "output_type": "stream",
     "text": [
      "libfoo.so:     file format elf64-x86-64\n",
      "0000000000000000 l    df *ABS*\t0000000000000000 foo.c\n",
      "00000000000010f9 g     F .text\t0000000000000013 foo\n",
      "libsum.so:     file format elf64-x86-64\n",
      "0000000000000000 l    df *ABS*\t0000000000000000 sum.c\n",
      "0000000000001111 g     F .text\t000000000000001e sum_float\n",
      "00000000000010f9 g     F .text\t0000000000000018 sum_int\n"
     ]
    }
   ],
   "source": [
    "%%bash\n",
    "objdump -t libfoo.so | grep foo\n",
    "objdump -t libsum.so | grep sum"
   ]
  },
  {
   "cell_type": "markdown",
   "id": "b59f5ca0",
   "metadata": {},
   "source": [
    "## Загрузка динамической библиотеки из программы на С, используя стандартные функции\n",
    "Библиотеки можно не привязывать намертво к программе, а загружать по мере необходимости. Для этого используется набор функций `dl`, которые вошли в стандарт POSIX 2001 года.\n",
    "\n",
    " * `void *dlopen(const char *filename, int flags)` - загружает файл с библиотекой;\n",
    " * `void *dlsym(void *handle, const char *symbol)` - ищет в библиотеке необходимый символ, и возвращает его адрес;\n",
    " * `int dlclose(void *handle)` - закрывает библиотеку, и выгружает её из памяти, если она больше в программе не используется;\n",
    " * `char *dlerror()` - возвращает текст ошибки, связянной с `dl`.\n"
   ]
  },
  {
   "cell_type": "code",
   "execution_count": 56,
   "id": "1c1057a6",
   "metadata": {},
   "outputs": [
    {
     "name": "stdout",
     "output_type": "stream",
     "text": [
      "Overwriting stdload_exec_dynlib.c\n"
     ]
    }
   ],
   "source": [
    "%%file stdload_exec_dynlib.c\n",
    "\n",
    "#include <stdio.h>\n",
    "#include <stdlib.h>\n",
    "#include <unistd.h>\n",
    "#include <sys/types.h>\n",
    "#include <sys/stat.h>\n",
    "#include <sys/mman.h>\n",
    "#include <fcntl.h>\n",
    "#include <assert.h>\n",
    "#include <dlfcn.h>\n",
    "\n",
    "typedef float (*binary_float_function)(float, float);\n",
    "\n",
    "int main() {  \n",
    "    \n",
    "    void *lib_handle = dlopen(\"./libsum.so\", RTLD_NOW);\n",
    "    if (!lib_handle) {\n",
    "        fprintf(stderr, \"dlopen: %s\\n\", dlerror());\n",
    "        abort();\n",
    "    }\n",
    "   \n",
    "    int (*sum)(int, int) = dlsym(lib_handle, \"sum_int\");\n",
    "    binary_float_function sum_f = dlsym(lib_handle, \"sum_float\");\n",
    "    \n",
    "    #define p(stmt, fmt) printf(#stmt \" = \" fmt \"\\n\", stmt);\n",
    "    p(sum(1, 1), \"%d\");\n",
    "    p(sum(40, 5000), \"%d\");\n",
    "    \n",
    "    p(sum_f(1, 1), \"%0.2f\");\n",
    "    p(sum_f(4.0, 500.1), \"%0.2f\");\n",
    "    \n",
    "    dlclose(lib_handle);\n",
    "    return 0;\n",
    "}"
   ]
  },
  {
   "cell_type": "code",
   "execution_count": 57,
   "id": "adef3814",
   "metadata": {},
   "outputs": [
    {
     "name": "stdout",
     "output_type": "stream",
     "text": [
      "sum(1, 1) = 2\n",
      "sum(40, 5000) = 5040\n",
      "sum_f(1, 1) = 2.00\n",
      "sum_f(4.0, 500.1) = 504.10\n"
     ]
    }
   ],
   "source": [
    "%%bash\n",
    "gcc -Wall -g stdload_exec_dynlib.c -ldl -o stdload_exec_dynlib\n",
    "./stdload_exec_dynlib"
   ]
  },
  {
   "cell_type": "markdown",
   "id": "21ceb5fe",
   "metadata": {},
   "source": [
    "# BPF\n",
    "[Ридинг Яковлева](https://github.com/victor-yacovlev/fpmi-caos/tree/master/practice/bpf)\n",
    "\n",
    "**BPF (Berkeley Packet Filter)** -  механизм для захвата и фильтрации пакетов на уровне ядра. Оперирует на уровне Data Link Layer. Мотивация к его созданию была такой - хочется отфильтровывать лишние пакеты и избавиться от них как можно раньше.\n",
    "\n",
    "Первая версия BPF сейчас называется classic BPF (`cBPF`) и включает в себя, кроме прочего, следующие утилиты:\n",
    "* `tcpdump` (ее мы использовали для захвата и логирования трафика на прошлых семинарах)\n",
    "* `seccomp` - механизм для фдра Linux, позволяющий процессам определять системные вызовы, которые они будут использовать (используется для исполнения \"серых\" программ)\n",
    "\n",
    "Extended BPF или eBPF - усовершенствованная версия cBPF, оптимизированная под 64битные машины. В своей основе eBPF - виртуальная машина-песочница, позволяющая запускать \"произвольный\" код без ущерба для безопасности.\n",
    "\n",
    "Программы BPF создаются в пространстве пользователя, загружаются в ядро и подсоединяются к какому-нибудь источнику событий. Событием может быть, например, доставка пакета на сетевой интерфейс, запуск какой-нибудь функции ядра, и т.п. В случае пакета программе BPF будут доступны данные и метаданные пакета (на чтение и, может, на запись, в зависимости от типа программы), в случае запуска функции ядра — аргументы функции, включая указатели на память ядра, и т.п.\n",
    "\n",
    "Если программы для cBPF нужно было обязательно писать на ассемблере, то eBPF принимает программы на С, и делается это за счет использования llvm. "
   ]
  },
  {
   "cell_type": "code",
   "execution_count": null,
   "id": "9746336c",
   "metadata": {},
   "outputs": [],
   "source": []
  }
 ],
 "metadata": {
  "kernelspec": {
   "display_name": "Python 3 (ipykernel)",
   "language": "python",
   "name": "python3"
  },
  "language_info": {
   "codemirror_mode": {
    "name": "ipython",
    "version": 3
   },
   "file_extension": ".py",
   "mimetype": "text/x-python",
   "name": "python",
   "nbconvert_exporter": "python",
   "pygments_lexer": "ipython3",
   "version": "3.9.7"
  }
 },
 "nbformat": 4,
 "nbformat_minor": 5
}
