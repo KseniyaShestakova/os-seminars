{
 "cells": [
  {
   "cell_type": "markdown",
   "id": "30713807",
   "metadata": {},
   "source": [
    "# Межпроцессное взаимодействие\n",
    "\n",
    "В прошлый раз мы рассмотрели способы взаимодействия между разными потоками в пределах одного процесса. Сейчас будем разбираться с тем, как разным процессам взаимодействовать друг с другом.\n",
    "\n",
    "## Пайпы и перенаправление файловых дискрипторов\n",
    "\n",
    "*Канал (pipe)* - это пара связанных между собой файловых дескрипторов, один из которых предназначен только для чтения, а другой - только для записи. При это данные, записанные во второй из них, можно прочитать из первого.\n",
    "\n",
    "Канал создается с помощью системного вызова `pipe`:\n",
    "```\n",
    "#include <unistd.h>\n",
    "\n",
    "int pipe(int pipefd[2]);\n",
    "```\n",
    "\n",
    "В качестве аргумента системному вызову `pipe` передается указатель на массив и двух целых чисел, куда будут записаны номера файловых дескрипторов:\n",
    " * `pipefd[0]` - файловый дескриптор, предназначенный для чтения;\n",
    " * `pipefd[1]` - файловый дескриптор, предназначенный для записи.\n",
    " \n",
    "### Запись данных в канал\n",
    "\n",
    "Осуществляется с помощью системного вызова `write`, первым аргументом которого является `pipefd[1]`. Канал является буферизованным, под Linux обычно его размер 65К. Возможные сценарии поведения при записи:\n",
    "\n",
    " * системный вызов `write` завершается немедленно, если размер данных меньше размера буфера, и в буфере есть место;\n",
    " * системный вызов `write` приостанавливает выполнение до тех пор, пока не появится место в буфере, то есть предыдущие данные не будут кем-то прочитаны из канала;\n",
    " * системный вызов `write` завершается с ошибкой `Broken pipe` (доставляется через сигнал `SIGPIPE`), если с противоположной стороны канал был закрыт, и данные читать некому.\n",
    "\n",
    "### Чтение данных из канала\n",
    "\n",
    "Осуществляется с помощью системного вызова `read`, первым аргументом которого является `pipefd[0]`. Возможные сценарии поведения при чтении:\n",
    "\n",
    " * если в буфере канала есть данные, то `read` читает их, и завершает свою работу;\n",
    " * если буфер пустой и есть **хотя бы один** открытый файловый дескриптор с противоположной стороны, то выполнение `read` блокируется;\n",
    " * если буфер пустой и все файловые дескрипторы с противоположной стороны каналы закрыты, то `read` немедленно завершает работу, возвращая `0`.\n",
    " \n",
    "### Пример\n",
    "Уже знакомое нам `|` в терминале - это канал (pipe). Например, мы испозовали его для перенаправления вывода одной команды на вход другой:"
   ]
  },
  {
   "cell_type": "code",
   "execution_count": 1,
   "id": "c81f9b04",
   "metadata": {},
   "outputs": [
    {
     "name": "stdout",
     "output_type": "stream",
     "text": [
      "root        9168  0.0  0.0      0     0 ?        I    11:35   0:00 [kworker/5:2-events]\n",
      "root        9172  0.0  0.0      0     0 ?        I    11:35   0:00 [kworker/0:1-events]\n",
      "xxeniash    9175  0.0  0.0   9940  3480 ?        S    11:35   0:00 bash\n",
      "xxeniash    9177  0.0  0.0  12792  3816 ?        R    11:35   0:00 ps aux\n",
      "xxeniash    9178  0.0  0.0   8400   972 ?        S    11:35   0:00 tail -n 5\n"
     ]
    }
   ],
   "source": [
    "%%bash\n",
    "ps aux | tail -n 5"
   ]
  },
  {
   "cell_type": "markdown",
   "id": "496e6d38",
   "metadata": {},
   "source": [
    "Это было использование пайпа при помощи bash. Можно проделать все то же самое на С, но для этого нам понадопится еще один системный вызов - `dup`.\n",
    "\n",
    "```\n",
    "#include <unistd.h>\n",
    "\n",
    "/* Возвращает копию нового файлового дескриптора, при этом, по аналогии\n",
    "   с open, численное значение нового файлового дескриптора - минимальный\n",
    "   не занятый номер. */\n",
    "int dup(int old_fd);\n",
    "\n",
    "/* Создаёт копию нового файлового дескриптора с явно указанным номером new_fd.\n",
    "   Если ранее файловый дескриптор new_fd был открыт, то закрывает его. */\n",
    "int dup2(int old_fd, int new_fd);\n",
    "```"
   ]
  },
  {
   "cell_type": "code",
   "execution_count": 5,
   "id": "6c6a7fbd",
   "metadata": {},
   "outputs": [
    {
     "name": "stdout",
     "output_type": "stream",
     "text": [
      "Overwriting fork_exec_pipe.c\n"
     ]
    }
   ],
   "source": [
    "%%file fork_exec_pipe.c\n",
    "\n",
    "#include <stdio.h>\n",
    "#include <stdlib.h>\n",
    "#include <unistd.h>\n",
    "#include <assert.h>\n",
    "#include <fcntl.h>\n",
    "#include <sys/resource.h>\n",
    "#include <sys/types.h>\n",
    "#include <sys/wait.h>\n",
    "\n",
    "\n",
    "int main() {\n",
    "    int fd[2];\n",
    "    pipe(fd); // fd[0] - in, fd[1] - out (like stdin=0, stdout=1)\n",
    "    pid_t pid_1, pid_2;\n",
    "    if ((pid_1 = fork()) == 0) {\n",
    "        dup2(fd[1], 1);\n",
    "        close(fd[0]);\n",
    "        close(fd[1]);\n",
    "        execlp(\"ps\", \"ps\", \"aux\", NULL);\n",
    "        assert(0 && \"Unreachable position in code if execlp succeeded\");\n",
    "    }\n",
    "    close(fd[1]);\n",
    "    \n",
    "    if ((pid_2 = fork()) == 0) {\n",
    "        dup2(fd[0], 0);\n",
    "        close(fd[0]);\n",
    "        close(fd[1]);\n",
    "        execlp(\"tail\", \"tail\", \"-n\", \"5\", NULL);\n",
    "        assert(0 && \"Unreachable position in code if execlp succeeded\");\n",
    "    }\n",
    "    close(fd[0]);\n",
    "    \n",
    "    int status;\n",
    "    assert(waitpid(pid_1, &status, 0) != -1);\n",
    "    assert(waitpid(pid_2, &status, 0) != -1);\n",
    "    return 0;\n",
    "}\n"
   ]
  },
  {
   "cell_type": "code",
   "execution_count": 6,
   "id": "724b9c7e",
   "metadata": {},
   "outputs": [
    {
     "name": "stdout",
     "output_type": "stream",
     "text": [
      "root        9230  0.0  0.0      0     0 ?        I    11:39   0:00 [kworker/3:2]\n",
      "xxeniash    9231  0.0  0.0   9940  3600 ?        S    11:39   0:00 bash\n",
      "xxeniash    9238  0.0  0.0   2620   956 ?        S    11:39   0:00 ./fork_exec_pipe\n",
      "xxeniash    9239  0.0  0.0  12792  3756 ?        R    11:39   0:00 ps aux\n",
      "xxeniash    9240  0.0  0.0   8400   980 ?        S    11:39   0:00 tail -n 5\n"
     ]
    }
   ],
   "source": [
    "%%bash\n",
    "gcc fork_exec_pipe.c -o fork_exec_pipe\n",
    "./fork_exec_pipe"
   ]
  },
  {
   "cell_type": "markdown",
   "id": "f25060e9",
   "metadata": {},
   "source": [
    "**Важно!** При выполнении системных вызовов `fork`, `dup` или `dup2` создаются копии файловых дескрипторов, связанных с каналом. Если не закрывать все лишние (неиспользуемые) копии файловых дескрипторов, предназначенных для записи, то это приводит к тому, что при очередной попытке чтения из канала, `read` вместо того, чтобы завершить работу, будет находиться в ожидании данных. Т.е. возникнет ситуация deadlock."
   ]
  },
  {
   "cell_type": "markdown",
   "id": "7c84397e",
   "metadata": {},
   "source": [
    "## Eventfd\n",
    "\n",
    "`Eventfd` - механизм для ожидания и отправки сообщений о событиях. Может быть использовано пользовательскими приложениями или ядром для оповещения других пользовательских приложений (но не ядра). Внутри себя содержит счетчик `uint64_t`, поддерживаемый ядром. Максимальное значение, которое может храниться в этом счетчике - это `MAX_INT64 - 1`, т.е. 0xfffffffffffffffe.\n",
    "\n",
    "Создается с помощью функции:\n",
    "```\n",
    "#include <sys/eventfd.h>\n",
    "\n",
    "int eventfd(unsigned int initval, int flags);\n",
    "```\n",
    "\n",
    "Поддерживаются флаги `EFD_CLOEXEC`, `EFD_NONBLOCK` и `EFD_SEMAPHORE`. Они определяют дальнейшее поведение `eventfd`.\n",
    "\n",
    "`eventfd` по факту является файловым дескриптором, поэтому к нему применимы стандартные системные вызовы `read` и `write`\n",
    "\n",
    "\n",
    "### Read\n",
    "Возвращает `uint64_t`.\n",
    "\n",
    "* Если `EFD_SEMAPHORE` не был выставлен и внутренний счетчик имеет ненулевое значение, то `read` вернет значение этого счетчика, а в сам счетчик запишет 0\n",
    "* Если `EFD_SEMAPHORE` был выставлен и внутренний счетчик имеет ненулевое значение, то `read` вернет 1 и уменьшит значение счетчика на 1\n",
    "* Если значение внутреннего счетчика в момент вызова `read` нулевое, то либо `read` будет ждать, пока счетчик станет ненулевым, либо, если `EFD_NONBLOCK` был выставлен, завершится с ошибкой EAGAIN.\n",
    "\n",
    "### Write\n",
    "Добавляет 8байтовое число, указанное в буфере, к внутреннему счетчику `eventfd`. Если такое прибавление приведет к переполнению, то `eventfd` либо заблокируется до следующего чтения, либо, если был выставлен флаг `EFD_NONBLOCK` при создании, завершится с ошибкой EAGAIN.\n",
    "\n",
    "`write` может завершиться с ошибкой, если ему передан буфер размера меньше 8 байт либо если в этом буфере записано 0xffffffffffffffff.\n",
    "\n",
    "### Пример\n",
    "В этом примере дочерний процесс пишет в `eventfd`, а родительский оттуда читает."
   ]
  },
  {
   "cell_type": "code",
   "execution_count": 9,
   "id": "32bfede9",
   "metadata": {},
   "outputs": [
    {
     "name": "stdout",
     "output_type": "stream",
     "text": [
      "Overwriting eventfd.c\n"
     ]
    }
   ],
   "source": [
    "%%file eventfd.c\n",
    "\n",
    "#include <err.h>\n",
    "       #include <inttypes.h>\n",
    "       #include <stdio.h>\n",
    "       #include <stdlib.h>\n",
    "       #include <sys/eventfd.h>\n",
    "       #include <sys/types.h>\n",
    "       #include <unistd.h>\n",
    "\n",
    "       int\n",
    "       main(int argc, char *argv[])\n",
    "       {\n",
    "           int       efd;\n",
    "           uint64_t  u;\n",
    "           ssize_t   s;\n",
    "\n",
    "           if (argc < 2) {\n",
    "               fprintf(stderr, \"Usage: %s <num>...\\n\", argv[0]);\n",
    "               exit(EXIT_FAILURE);\n",
    "           }\n",
    "\n",
    "           efd = eventfd(0, 0);\n",
    "           if (efd == -1)\n",
    "               err(EXIT_FAILURE, \"eventfd\");\n",
    "\n",
    "           switch (fork()) {\n",
    "           case 0:\n",
    "               for (size_t j = 1; j < argc; j++) {\n",
    "                   printf(\"Child writing %s to efd\\n\", argv[j]);\n",
    "                   u = strtoull(argv[j], NULL, 0);\n",
    "                           /* strtoull() allows various bases */\n",
    "                   s = write(efd, &u, sizeof(uint64_t));\n",
    "                   if (s != sizeof(uint64_t))\n",
    "                       err(EXIT_FAILURE, \"write\");\n",
    "               }\n",
    "               printf(\"Child completed write loop\\n\");\n",
    "\n",
    "               exit(EXIT_SUCCESS);\n",
    "\n",
    "           default:\n",
    "               sleep(2);\n",
    "\n",
    "               printf(\"Parent about to read\\n\");\n",
    "               s = read(efd, &u, sizeof(uint64_t));\n",
    "               if (s != sizeof(uint64_t))\n",
    "                   err(EXIT_FAILURE, \"read\");\n",
    "               printf(\"Parent read %\"PRIu64\" (%#\"PRIx64\") from efd\\n\", u, u);\n",
    "               exit(EXIT_SUCCESS);\n",
    "\n",
    "           case -1:\n",
    "               err(EXIT_FAILURE, \"fork\");\n",
    "           }\n",
    "       }"
   ]
  },
  {
   "cell_type": "code",
   "execution_count": 8,
   "id": "d2e7581a",
   "metadata": {},
   "outputs": [
    {
     "name": "stdout",
     "output_type": "stream",
     "text": [
      "Child writing 1 to efd\n",
      "Child writing 2 to efd\n",
      "Child writing 4 to efd\n",
      "Child writing 7 to efd\n",
      "Child writing 14 to efd\n",
      "Child completed write loop\n",
      "Parent about to read\n",
      "Parent read 28 (0x1c) from efd\n"
     ]
    }
   ],
   "source": [
    "%%bash\n",
    "gcc eventfd.c -o eventfd\n",
    "./eventfd 1 2 4 7 14"
   ]
  },
  {
   "cell_type": "markdown",
   "id": "cde938ec",
   "metadata": {},
   "source": [
    "## Сигналы\n",
    "\n",
    "Сигнал - механизм передачи коротких сообщений (сообщение состоит из одного чиса - номера сигнала), как правило, прерывающий работу процесса, которому он был отправлен.\n",
    "\n",
    "Вы, вероятно уже сталкивались со следующими сигналами:\n",
    "* SIGKILL - посылали его, когда убивали процесс: `kill -9 <pid>`\n",
    "* SIGINT (~interrupt) - посылается, когда вы нажимаете Ctrl+C для завершения программы\n",
    "* SIGQIT - посылается, если завершить программу с помощью Ctrl+\\. Это завершение программы с дампом памяти. Срабатывает чаще, чем Ctrl+C\n",
    "* SIGTSTP - посылается, если завершить программу с помощью Ctrl+Z, останавливает процесс\n",
    "\n",
    "### Обработка сигналов\n",
    "С каждым процессом связан аттрибут, который не наследуется при `fork`, - это *маска сигналов, ожидающих доставки*. Как правило, она представляется внутри системы в виде целого числа, хотя стандартом внутреннее представление не регламентируется. Отдельные биты в этой маске соответствуют отдельным сигналам, которые были отправлены процессу, но ещё не обработаны.\n",
    "\n",
    "Поскольку одним битом можно закодировать только бинарное значение, то учитывается только сам факт поступления сигнала, но не их количество. Например, это может быть критичным, если сигналы долго не обрабатываются. Таким образом, использовать механизм стандартных сигналов для синхронизации двух процессов - нельзя.\n",
    "\n",
    "Тот факт, что сигнал оказался в маске ожидающих доставки, ещё не означает, что он будет немедленно обработан. У процесса (или даже у отдельной нити) может существовать маска *заблокированных* сигналов, которая накладывается на маску ожидающих доставки с помощью поразрядной операции `И-НЕ`.\n",
    "\n",
    "В отличии от маски ожидающих достаки, маска заблокированных сигналов наследуется при `fork`.\n",
    "\n",
    "### Множества сигналов\n",
    "\n",
    "Множества сигналов описываются типом данных `sigset_t`, объявленным в заголовочном файле `<signal.h>`.\n",
    "\n",
    "Операции над множествами:\n",
    " * `sigemptyset(sigset_t *set)` - инициализировать пустое множество;\n",
    " * `sigfillset(sigset_t *set)` - инициализировать полное множество;\n",
    " * `sigaddset(sigset_t *set, int signum)` - добавить сигнал к множеству;\n",
    " * `sigdelset(sigset_t *set, int signum)` - убрать сигнал из множества;\n",
    " * `sigismember(sigset_t *set, int signum)` - проверить наличие сигнала в множестве.\n",
    " \n",
    " Для блокировки или разблокировки отдельных сигналов поддерживается специальная маска. Она устанавливается с помощью системного вызова `sigprocmask`.\n",
    " \n",
    "```\n",
    "int sigprocmask(int how, sigset_t *set, sigset_t *old_set);\n",
    "```\n",
    "где `old_set` - куда записать старую маску (может быть `NULL`, если не интересно), а параметр `how` - это одно из значений:\n",
    " * `SIG_SETMASK` - установить множество сигналов в качестве маски блокируемых сигналов;\n",
    " * `SIG_BLOCK` - добавить множество к маске блокируемых сигналов;\n",
    " * `SIG_UNBLOCK` - убрать множество из маски блокируемых сигналов.\n",
    "\n",
    "\n",
    "\n",
    "\n",
    "По умолчанию, все сигналы, кроме `SIGCHILD` (информирование о завершении дочернего процесса) и `SIGURG` (информирование о поступлении TCP-сегмента с приоритетными данными), приводят к завершению работы процесса. Но при желании можно написать свой обработчик для тех сигналов, которые можно перехватить, т.е. всех, кроме `SIGSTOP` и `SIGKILL`.\n",
    "\n",
    "Системный вызов `signal` предназначен для того, чтобы зарегистрировать функцию в качестве обработчика определенного сигнала. Первым аргументом является номер сигнала, вторым - указатель на функцию, которая принимает единственный аргумент - номер пришедшего сигнала (т.е. одну функцию можно использовать сразу для нескольких сигналов), и ничего не возвращает.\n",
    "\n",
    "```\n",
    "#include <signal.h>\n",
    "\n",
    "// Этот тип определен только в Linux!\n",
    "typedef void (*sighandler_t)(int);\n",
    "\n",
    "sighandler_t signal(int signum, sighandler_t handler); // для Linux\n",
    "void (*signal(int signum, void (*func)(int))) (int); // по стандарту POSIX\n",
    "```\n",
    "\n",
    "Частным случаем обработки сигналов является игнорирование сигналов, которое так же можно провести с помощью `signal`."
   ]
  },
  {
   "cell_type": "code",
   "execution_count": 10,
   "id": "19cd84b7",
   "metadata": {},
   "outputs": [
    {
     "name": "stdout",
     "output_type": "stream",
     "text": [
      "Writing ignore.c\n"
     ]
    }
   ],
   "source": [
    "%%file ignore.c\n",
    "\n",
    "#include <signal.h>\n",
    "#include <stdio.h>\n",
    " \n",
    "int main(void)\n",
    "{\n",
    "    /* ignoring the signal */\n",
    "    signal(SIGTERM, SIG_IGN);\n",
    "    raise(SIGTERM);\n",
    "    printf(\"Exit main()\\n\");\n",
    "}"
   ]
  },
  {
   "cell_type": "code",
   "execution_count": 11,
   "id": "f51dd3cb",
   "metadata": {},
   "outputs": [
    {
     "name": "stdout",
     "output_type": "stream",
     "text": [
      "Exit main()\n"
     ]
    }
   ],
   "source": [
    "%%bash \n",
    "gcc ignore.c -o ignore\n",
    "./ignore"
   ]
  },
  {
   "cell_type": "markdown",
   "id": "578eed3a",
   "metadata": {},
   "source": [
    "### Signalfd\n",
    "\n",
    "`signalfd` создает файловый дескриптор для получения сигналов.\n",
    "\n",
    "**Как это может быть использовано?** Допустим, мы хотим одновременно дождаться сигнала и какого-то другого события. Ожидать события по нескольким файловым дескрипторам можно при помощи средств мультиплексирования - `select`, `poll`, `epoll`. Значит, если бы у нас получилось свести ожидание сигнала к файловому дескриптору, то его можно было бы обработать одновременно с другими событиями. Здесь и помогает `signalfd`!\n",
    "\n",
    "```\n",
    "#include <sys/signalfd.h>\n",
    "\n",
    "int signalfd(int fd, const sigset_t *mask, int flags);\n",
    "```\n",
    "\n",
    "### Пример"
   ]
  },
  {
   "cell_type": "code",
   "execution_count": 12,
   "id": "10cfb0d0",
   "metadata": {},
   "outputs": [
    {
     "name": "stdout",
     "output_type": "stream",
     "text": [
      "Writing signalfd.c\n"
     ]
    }
   ],
   "source": [
    "%%file signalfd.c\n",
    "\n",
    "#include <unistd.h>\n",
    "#include <stdio.h>\n",
    "#include <signal.h>\n",
    "#include <assert.h>\n",
    "#include <sys/types.h>\n",
    "#include <sys/wait.h>\n",
    "#include <sys/signalfd.h>\n",
    "\n",
    "int main() {\n",
    "    sigset_t mask;\n",
    "    sigfillset(&mask);\n",
    "    sigdelset(&mask, SIGCONT);\n",
    "    sigprocmask(SIG_BLOCK, &mask, NULL);\n",
    "    \n",
    "    // сводим получение сигналов к файловому дескриптору\n",
    "    int fd = signalfd(-1, &mask, 0);\n",
    "    \n",
    "    struct signalfd_siginfo fdsi;\n",
    "    while (1) {\n",
    "        read(fd, &fdsi, sizeof(struct signalfd_siginfo));\n",
    "        printf(\"Got signal %d\\n\", fdsi.ssi_signo);\n",
    "        if (fdsi.ssi_signo == SIGTERM) {\n",
    "            printf(\" ... and it is SIGTERM\\n\");\n",
    "            break;\n",
    "        }\n",
    "    }\n",
    "    close(fd);\n",
    "    return 0;\n",
    "}"
   ]
  },
  {
   "cell_type": "markdown",
   "id": "593d5457",
   "metadata": {},
   "source": [
    "Запуск:\n",
    "\n",
    "```\n",
    "gcc signalfd.c -o signalfd\n",
    "timeout -s SIGINT 1 timeout -s SIGTERM 2 timeout -s SIGINT 3  ./signalfd\n",
    "```\n",
    "\n",
    "Можно запустить и убедиться в том, что первый SIGINT был проигнорирован, а после получения SIGTERM программа завершилась, поэтому второй SIGINT уже не был доставлен."
   ]
  },
  {
   "cell_type": "code",
   "execution_count": null,
   "id": "77d179ba",
   "metadata": {},
   "outputs": [],
   "source": []
  }
 ],
 "metadata": {
  "kernelspec": {
   "display_name": "Python 3 (ipykernel)",
   "language": "python",
   "name": "python3"
  },
  "language_info": {
   "codemirror_mode": {
    "name": "ipython",
    "version": 3
   },
   "file_extension": ".py",
   "mimetype": "text/x-python",
   "name": "python",
   "nbconvert_exporter": "python",
   "pygments_lexer": "ipython3",
   "version": "3.9.7"
  }
 },
 "nbformat": 4,
 "nbformat_minor": 5
}
