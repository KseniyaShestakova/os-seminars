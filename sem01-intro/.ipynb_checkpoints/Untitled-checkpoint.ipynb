{
 "cells": [
  {
   "cell_type": "markdown",
   "id": "e5595e6c",
   "metadata": {},
   "source": [
    "# Intro. Linux, C, компиляция, gdb, strace"
   ]
  },
  {
   "cell_type": "markdown",
   "id": "36a7ac90",
   "metadata": {},
   "source": [
    "## Bash Cheat Sheet"
   ]
  },
  {
   "cell_type": "code",
   "execution_count": 22,
   "id": "dd343e9e",
   "metadata": {},
   "outputs": [
    {
     "name": "stdout",
     "output_type": "stream",
     "text": [
      "/home/xxeniash/os-seminars/sem01-intro\n",
      "new_dir\n",
      "Untitled.ipynb\n",
      ".\n",
      "..\n",
      ".ipynb_checkpoints\n",
      "new_dir\n",
      "Untitled.ipynb\n",
      "Hello world\n",
      "Hello world\n"
     ]
    }
   ],
   "source": [
    "%%bash\n",
    "pwd # вывести название рабочей директории\n",
    "mkdir new_dir # создание директории\n",
    "ls # список файлов в текущей директории\n",
    "ls -a # в том числе скрытых\n",
    "cd new_dir # перейти в директорию new_dir\n",
    "touch new_file # создание нового файла\n",
    "echo 'Hello world' # вывод в консоль\n",
    "echo 'Hello world' > new_file # вывод в файл\n",
    "cat new_file # вывести содержимое файла\n",
    "touch src.txt\n",
    "touch dst.txt\n",
    "cp src.txt dst.txt # скопировать содержимое src.txt в dst.txt\n",
    "mv src.txt dst.txt # переместить содержимое src.txt в dst.txt\n",
    "rm dst.txt # удалить файл\n",
    "cd .. # переместиться в родительскую директорию\n",
    "rm -r new_dir # удалить директорию"
   ]
  },
  {
   "cell_type": "markdown",
   "id": "5568d706",
   "metadata": {},
   "source": [
    "Другие полезные команды:\n",
    "* `grep` - поиск по регулярному выражению\n",
    "например, `ls | grep .txt$` - поиск имен всех файлов текущей директории, кончающихся на .txt\n",
    "* `head`/ `tail` - чтение из начала/конца файла \n",
    "\n",
    "Для работы с файлами удобно использовать текстовый редактор (`vim`, `nano`, ...) или IDE (`CLion`, `VSCode`). У текстовых редакторов есть отдельные сеты команд, с которыми стоит разобраться заранее, чтобы облегчить себе жизнь."
   ]
  },
  {
   "cell_type": "markdown",
   "id": "e28b2626",
   "metadata": {},
   "source": [
    "## Компиляция\n",
    "Компилировать будем с помощью `gcc` (в случае кода на C) или `g++` (в случае кода на C++)."
   ]
  },
  {
   "cell_type": "code",
   "execution_count": 23,
   "id": "026271fe",
   "metadata": {},
   "outputs": [
    {
     "name": "stdout",
     "output_type": "stream",
     "text": [
      "Hello world!"
     ]
    }
   ],
   "source": [
    "%%bash\n",
    "gcc main.c -o main # компилируем main.c, результат пишем в main\n",
    "./main"
   ]
  },
  {
   "cell_type": "markdown",
   "id": "b0a7cc7a",
   "metadata": {},
   "source": [
    "**Сталии компиляции**:\n",
    "* Препроцессинг\n",
    "* Компиляция\n",
    "* Ассемблирование\n",
    "* Линковка"
   ]
  },
  {
   "cell_type": "markdown",
   "id": "82a8e07c",
   "metadata": {},
   "source": [
    "### Препроцессинг\n",
    "На этом этапе раскрываются include-ы, define-ы и другие директивы.\n",
    "На выходе получаем корректный файл на C (C++)."
   ]
  },
  {
   "cell_type": "code",
   "execution_count": 24,
   "id": "64a5eec9",
   "metadata": {},
   "outputs": [
    {
     "name": "stdout",
     "output_type": "stream",
     "text": [
      "#include \"preproc.h\"\r\n",
      "\r\n",
      "int main() {\r\n",
      "    return foo();\r\n",
      "}\r\n"
     ]
    }
   ],
   "source": [
    "%cat preproc.c"
   ]
  },
  {
   "cell_type": "code",
   "execution_count": 25,
   "id": "b3f3037b",
   "metadata": {},
   "outputs": [
    {
     "name": "stdout",
     "output_type": "stream",
     "text": [
      "int foo() {\r\n",
      "    return 42;\r\n",
      "}\r\n"
     ]
    }
   ],
   "source": [
    "%cat preproc.h"
   ]
  },
  {
   "cell_type": "code",
   "execution_count": 27,
   "id": "e563233e",
   "metadata": {},
   "outputs": [
    {
     "name": "stdout",
     "output_type": "stream",
     "text": [
      "# 0 \"preproc.c\"\n",
      "# 0 \"<built-in>\"\n",
      "# 0 \"<command-line>\"\n",
      "# 1 \"/usr/include/stdc-predef.h\" 1 3 4\n",
      "# 0 \"<command-line>\" 2\n",
      "# 1 \"preproc.c\"\n",
      "# 1 \"preproc.h\" 1\n",
      "int foo() {\n",
      "    return 42;\n",
      "}\n",
      "# 2 \"preproc.c\" 2\n",
      "\n",
      "int main() {\n",
      "    return foo();\n",
      "}\n"
     ]
    }
   ],
   "source": [
    "%%bash\n",
    "gcc -E preproc.c -o preproc_done.c\n",
    "cat preproc_done.c"
   ]
  },
  {
   "cell_type": "markdown",
   "id": "8a98ba38",
   "metadata": {},
   "source": [
    "### Компиляция\n",
    "Преобразование исходного кода на C/C++ в ассемблерный код."
   ]
  },
  {
   "cell_type": "code",
   "execution_count": 28,
   "id": "4c9af1e1",
   "metadata": {},
   "outputs": [
    {
     "name": "stdout",
     "output_type": "stream",
     "text": [
      "\t.file\t\"main.c\"\n",
      "\t.text\n",
      "\t.section\t.rodata\n",
      ".LC0:\n",
      "\t.string\t\"Hello world!\"\n",
      "\t.text\n",
      "\t.globl\tmain\n",
      "\t.type\tmain, @function\n",
      "main:\n",
      ".LFB0:\n",
      "\t.cfi_startproc\n",
      "\tendbr64\n",
      "\tpushq\t%rbp\n",
      "\t.cfi_def_cfa_offset 16\n",
      "\t.cfi_offset 6, -16\n",
      "\tmovq\t%rsp, %rbp\n",
      "\t.cfi_def_cfa_register 6\n",
      "\tleaq\t.LC0(%rip), %rax\n",
      "\tmovq\t%rax, %rdi\n",
      "\tmovl\t$0, %eax\n",
      "\tcall\tprintf@PLT\n",
      "\tmovl\t$0, %eax\n",
      "\tpopq\t%rbp\n",
      "\t.cfi_def_cfa 7, 8\n",
      "\tret\n",
      "\t.cfi_endproc\n",
      ".LFE0:\n",
      "\t.size\tmain, .-main\n",
      "\t.ident\t\"GCC: (Ubuntu 11.2.0-7ubuntu2) 11.2.0\"\n",
      "\t.section\t.note.GNU-stack,\"\",@progbits\n",
      "\t.section\t.note.gnu.property,\"a\"\n",
      "\t.align 8\n",
      "\t.long\t1f - 0f\n",
      "\t.long\t4f - 1f\n",
      "\t.long\t5\n",
      "0:\n",
      "\t.string\t\"GNU\"\n",
      "1:\n",
      "\t.align 8\n",
      "\t.long\t0xc0000002\n",
      "\t.long\t3f - 2f\n",
      "2:\n",
      "\t.long\t0x3\n",
      "3:\n",
      "\t.align 8\n",
      "4:\n"
     ]
    }
   ],
   "source": [
    "%%bash\n",
    "gcc -S main.c -o main.S\n",
    "cat main.S"
   ]
  },
  {
   "cell_type": "markdown",
   "id": "6065575a",
   "metadata": {},
   "source": [
    "### Ассемблирование\n",
    "Преобразование ассемблерного кода в машинный."
   ]
  },
  {
   "cell_type": "code",
   "execution_count": 2,
   "id": "77fe54c9",
   "metadata": {},
   "outputs": [],
   "source": [
    "%%bash\n",
    "gcc -c main.c -o main.o"
   ]
  },
  {
   "cell_type": "markdown",
   "id": "a6cf0600",
   "metadata": {},
   "source": [
    "### Линковка\n",
    "Ее так же называют компановкой. Если компилируем одновременно несколько файлов, то на этом этапе происходит их сборка в один итоговый файл - исполняемый файл либо библиотеку. Линковка производится утилитой `ld`, которую автоматически вызывает `gcc`."
   ]
  },
  {
   "cell_type": "markdown",
   "id": "1bd0f2ab",
   "metadata": {},
   "source": [
    "## Отладка"
   ]
  },
  {
   "cell_type": "markdown",
   "id": "42fd96f5",
   "metadata": {},
   "source": [
    "## GDB\n",
    "`gdb` - GNU debugger."
   ]
  },
  {
   "cell_type": "code",
   "execution_count": 3,
   "id": "d3783e05",
   "metadata": {},
   "outputs": [
    {
     "name": "stdout",
     "output_type": "stream",
     "text": [
      "GNU gdb (Ubuntu 11.1-0ubuntu2) 11.1\n",
      "Copyright (C) 2021 Free Software Foundation, Inc.\n",
      "License GPLv3+: GNU GPL version 3 or later <http://gnu.org/licenses/gpl.html>\n",
      "This is free software: you are free to change and redistribute it.\n",
      "There is NO WARRANTY, to the extent permitted by law.\n",
      "Type \"show copying\" and \"show warranty\" for details.\n",
      "This GDB was configured as \"x86_64-linux-gnu\".\n",
      "Type \"show configuration\" for configuration details.\n",
      "For bug reporting instructions, please see:\n",
      "<https://www.gnu.org/software/gdb/bugs/>.\n",
      "Find the GDB manual and other documentation resources online at:\n",
      "    <http://www.gnu.org/software/gdb/documentation/>.\n",
      "\n",
      "For help, type \"help\".\n",
      "Type \"apropos word\" to search for commands related to \"word\"...\n",
      "Reading symbols from main...\n",
      "(gdb) quit\n"
     ]
    }
   ],
   "source": [
    "%%bash\n",
    "gcc -g main.c -o main # компилируем с опцией отладки -g\n",
    "gdb main"
   ]
  },
  {
   "cell_type": "markdown",
   "id": "a36146af",
   "metadata": {},
   "source": [
    "Полезные команды (и один шорт кат):\n",
    "* `Ctrl+X+A` - открыть окно с кодом\n",
    "* `r` - начать исполнение команды\n",
    "* `n` - перейти на следующую строку\n",
    "* `b <function>` - создать брейкпоинт для остановки на функции function\n",
    "* `c` - перейти на следующий брейкпоинт\n",
    "* `s` - зайти внутрь функции\n",
    "* `p <var>` - вывести значение переменной var\n",
    "* `q` - закончить отладку"
   ]
  },
  {
   "cell_type": "code",
   "execution_count": null,
   "id": "f1f86442",
   "metadata": {},
   "outputs": [],
   "source": []
  }
 ],
 "metadata": {
  "kernelspec": {
   "display_name": "Python 3 (ipykernel)",
   "language": "python",
   "name": "python3"
  },
  "language_info": {
   "codemirror_mode": {
    "name": "ipython",
    "version": 3
   },
   "file_extension": ".py",
   "mimetype": "text/x-python",
   "name": "python",
   "nbconvert_exporter": "python",
   "pygments_lexer": "ipython3",
   "version": "3.9.7"
  }
 },
 "nbformat": 4,
 "nbformat_minor": 5
}
