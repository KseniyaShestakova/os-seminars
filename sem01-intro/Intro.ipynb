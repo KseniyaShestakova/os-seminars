{
 "cells": [
  {
   "cell_type": "markdown",
   "id": "e5595e6c",
   "metadata": {},
   "source": [
    "# Intro. Linux, C, компиляция, gdb, strace"
   ]
  },
  {
   "cell_type": "markdown",
   "id": "36a7ac90",
   "metadata": {},
   "source": [
    "## Bash Cheat Sheet"
   ]
  },
  {
   "cell_type": "code",
   "execution_count": 22,
   "id": "dd343e9e",
   "metadata": {},
   "outputs": [
    {
     "name": "stdout",
     "output_type": "stream",
     "text": [
      "/home/xxeniash/os-seminars/sem01-intro\n",
      "new_dir\n",
      "Untitled.ipynb\n",
      ".\n",
      "..\n",
      ".ipynb_checkpoints\n",
      "new_dir\n",
      "Untitled.ipynb\n",
      "Hello world\n",
      "Hello world\n"
     ]
    }
   ],
   "source": [
    "%%bash\n",
    "pwd # вывести название рабочей директории\n",
    "mkdir new_dir # создание директории\n",
    "ls # список файлов в текущей директории\n",
    "ls -a # в том числе скрытых\n",
    "cd new_dir # перейти в директорию new_dir\n",
    "touch new_file # создание нового файла\n",
    "echo 'Hello world' # вывод в консоль\n",
    "echo 'Hello world' > new_file # вывод в файл\n",
    "cat new_file # вывести содержимое файла\n",
    "touch src.txt\n",
    "touch dst.txt\n",
    "cp src.txt dst.txt # скопировать содержимое src.txt в dst.txt\n",
    "mv src.txt dst.txt # переместить содержимое src.txt в dst.txt\n",
    "rm dst.txt # удалить файл\n",
    "cd .. # переместиться в родительскую директорию\n",
    "rm -r new_dir # удалить директорию"
   ]
  },
  {
   "cell_type": "markdown",
   "id": "5568d706",
   "metadata": {},
   "source": [
    "Другие полезные команды:\n",
    "* `grep` - поиск по регулярному выражению\n",
    "например, `ls | grep .txt$` - поиск имен всех файлов текущей директории, кончающихся на .txt\n",
    "* `head`/ `tail` - чтение из начала/конца файла \n",
    "\n",
    "Для работы с файлами удобно использовать текстовый редактор (`vim`, `nano`, ...) или IDE (`CLion`, `VSCode`). У текстовых редакторов есть отдельные сеты команд, с которыми стоит разобраться заранее, чтобы облегчить себе жизнь."
   ]
  },
  {
   "cell_type": "markdown",
   "id": "e28b2626",
   "metadata": {},
   "source": [
    "## Компиляция\n",
    "Компилировать будем с помощью `gcc` (в случае кода на C) или `g++` (в случае кода на C++)."
   ]
  },
  {
   "cell_type": "code",
   "execution_count": 23,
   "id": "026271fe",
   "metadata": {},
   "outputs": [
    {
     "name": "stdout",
     "output_type": "stream",
     "text": [
      "Hello world!"
     ]
    }
   ],
   "source": [
    "%%bash\n",
    "gcc main.c -o main # компилируем main.c, результат пишем в main\n",
    "./main"
   ]
  },
  {
   "cell_type": "markdown",
   "id": "b0a7cc7a",
   "metadata": {},
   "source": [
    "**Сталии компиляции**:\n",
    "* Препроцессинг\n",
    "* Компиляция\n",
    "* Ассемблирование\n",
    "* Линковка"
   ]
  },
  {
   "cell_type": "markdown",
   "id": "82a8e07c",
   "metadata": {},
   "source": [
    "### Препроцессинг\n",
    "На этом этапе раскрываются include-ы, define-ы и другие директивы.\n",
    "На выходе получаем корректный файл на C (C++)."
   ]
  },
  {
   "cell_type": "code",
   "execution_count": 24,
   "id": "64a5eec9",
   "metadata": {},
   "outputs": [
    {
     "name": "stdout",
     "output_type": "stream",
     "text": [
      "#include \"preproc.h\"\r\n",
      "\r\n",
      "int main() {\r\n",
      "    return foo();\r\n",
      "}\r\n"
     ]
    }
   ],
   "source": [
    "%cat preproc.c"
   ]
  },
  {
   "cell_type": "code",
   "execution_count": 25,
   "id": "b3f3037b",
   "metadata": {},
   "outputs": [
    {
     "name": "stdout",
     "output_type": "stream",
     "text": [
      "int foo() {\r\n",
      "    return 42;\r\n",
      "}\r\n"
     ]
    }
   ],
   "source": [
    "%cat preproc.h"
   ]
  },
  {
   "cell_type": "code",
   "execution_count": 27,
   "id": "e563233e",
   "metadata": {},
   "outputs": [
    {
     "name": "stdout",
     "output_type": "stream",
     "text": [
      "# 0 \"preproc.c\"\n",
      "# 0 \"<built-in>\"\n",
      "# 0 \"<command-line>\"\n",
      "# 1 \"/usr/include/stdc-predef.h\" 1 3 4\n",
      "# 0 \"<command-line>\" 2\n",
      "# 1 \"preproc.c\"\n",
      "# 1 \"preproc.h\" 1\n",
      "int foo() {\n",
      "    return 42;\n",
      "}\n",
      "# 2 \"preproc.c\" 2\n",
      "\n",
      "int main() {\n",
      "    return foo();\n",
      "}\n"
     ]
    }
   ],
   "source": [
    "%%bash\n",
    "gcc -E preproc.c -o preproc_done.c\n",
    "cat preproc_done.c"
   ]
  },
  {
   "cell_type": "markdown",
   "id": "8a98ba38",
   "metadata": {},
   "source": [
    "### Компиляция\n",
    "Преобразование исходного кода на C/C++ в ассемблерный код."
   ]
  },
  {
   "cell_type": "code",
   "execution_count": 28,
   "id": "4c9af1e1",
   "metadata": {},
   "outputs": [
    {
     "name": "stdout",
     "output_type": "stream",
     "text": [
      "\t.file\t\"main.c\"\n",
      "\t.text\n",
      "\t.section\t.rodata\n",
      ".LC0:\n",
      "\t.string\t\"Hello world!\"\n",
      "\t.text\n",
      "\t.globl\tmain\n",
      "\t.type\tmain, @function\n",
      "main:\n",
      ".LFB0:\n",
      "\t.cfi_startproc\n",
      "\tendbr64\n",
      "\tpushq\t%rbp\n",
      "\t.cfi_def_cfa_offset 16\n",
      "\t.cfi_offset 6, -16\n",
      "\tmovq\t%rsp, %rbp\n",
      "\t.cfi_def_cfa_register 6\n",
      "\tleaq\t.LC0(%rip), %rax\n",
      "\tmovq\t%rax, %rdi\n",
      "\tmovl\t$0, %eax\n",
      "\tcall\tprintf@PLT\n",
      "\tmovl\t$0, %eax\n",
      "\tpopq\t%rbp\n",
      "\t.cfi_def_cfa 7, 8\n",
      "\tret\n",
      "\t.cfi_endproc\n",
      ".LFE0:\n",
      "\t.size\tmain, .-main\n",
      "\t.ident\t\"GCC: (Ubuntu 11.2.0-7ubuntu2) 11.2.0\"\n",
      "\t.section\t.note.GNU-stack,\"\",@progbits\n",
      "\t.section\t.note.gnu.property,\"a\"\n",
      "\t.align 8\n",
      "\t.long\t1f - 0f\n",
      "\t.long\t4f - 1f\n",
      "\t.long\t5\n",
      "0:\n",
      "\t.string\t\"GNU\"\n",
      "1:\n",
      "\t.align 8\n",
      "\t.long\t0xc0000002\n",
      "\t.long\t3f - 2f\n",
      "2:\n",
      "\t.long\t0x3\n",
      "3:\n",
      "\t.align 8\n",
      "4:\n"
     ]
    }
   ],
   "source": [
    "%%bash\n",
    "gcc -S main.c -o main.S\n",
    "cat main.S"
   ]
  },
  {
   "cell_type": "markdown",
   "id": "6065575a",
   "metadata": {},
   "source": [
    "### Ассемблирование\n",
    "Преобразование ассемблерного кода в машинный."
   ]
  },
  {
   "cell_type": "code",
   "execution_count": 2,
   "id": "77fe54c9",
   "metadata": {},
   "outputs": [],
   "source": [
    "%%bash\n",
    "gcc -c main.c -o main.o"
   ]
  },
  {
   "cell_type": "markdown",
   "id": "a6cf0600",
   "metadata": {},
   "source": [
    "### Линковка\n",
    "Ее так же называют компановкой. Если компилируем одновременно несколько файлов, то на этом этапе происходит их сборка в один итоговый файл - исполняемый файл либо библиотеку. Линковка производится утилитой `ld`, которую автоматически вызывает `gcc`."
   ]
  },
  {
   "cell_type": "markdown",
   "id": "1bd0f2ab",
   "metadata": {},
   "source": [
    "## Отладка"
   ]
  },
  {
   "cell_type": "markdown",
   "id": "42fd96f5",
   "metadata": {},
   "source": [
    "## GDB\n",
    "`gdb` - GNU debugger."
   ]
  },
  {
   "cell_type": "code",
   "execution_count": 3,
   "id": "d3783e05",
   "metadata": {},
   "outputs": [
    {
     "name": "stdout",
     "output_type": "stream",
     "text": [
      "GNU gdb (Ubuntu 11.1-0ubuntu2) 11.1\n",
      "Copyright (C) 2021 Free Software Foundation, Inc.\n",
      "License GPLv3+: GNU GPL version 3 or later <http://gnu.org/licenses/gpl.html>\n",
      "This is free software: you are free to change and redistribute it.\n",
      "There is NO WARRANTY, to the extent permitted by law.\n",
      "Type \"show copying\" and \"show warranty\" for details.\n",
      "This GDB was configured as \"x86_64-linux-gnu\".\n",
      "Type \"show configuration\" for configuration details.\n",
      "For bug reporting instructions, please see:\n",
      "<https://www.gnu.org/software/gdb/bugs/>.\n",
      "Find the GDB manual and other documentation resources online at:\n",
      "    <http://www.gnu.org/software/gdb/documentation/>.\n",
      "\n",
      "For help, type \"help\".\n",
      "Type \"apropos word\" to search for commands related to \"word\"...\n",
      "Reading symbols from main...\n",
      "(gdb) quit\n"
     ]
    }
   ],
   "source": [
    "%%bash\n",
    "gcc -g main.c -o main # компилируем с опцией отладки -g\n",
    "gdb main"
   ]
  },
  {
   "cell_type": "markdown",
   "id": "a36146af",
   "metadata": {},
   "source": [
    "Полезные команды (и один шорт кат):\n",
    "* `Ctrl+X+A` - открыть окно с кодом\n",
    "* `r` - начать исполнение команды\n",
    "* `n` - перейти на следующую строку\n",
    "* `b <function>` - создать брейкпоинт для остановки на функции function\n",
    "* `c` - перейти на следующий брейкпоинт\n",
    "* `s` - зайти внутрь функции\n",
    "* `p <var>` - вывести значение переменной var\n",
    "* `q` - закончить отладку\n",
    "\n",
    "**Пример:** ловим segfault."
   ]
  },
  {
   "cell_type": "code",
   "execution_count": 7,
   "id": "f1f86442",
   "metadata": {},
   "outputs": [
    {
     "name": "stdout",
     "output_type": "stream",
     "text": [
      "#include <stdio.h>\n",
      "\n",
      "int access(int* a, int i) { \n",
      "    return a[i]; \n",
      "}\n",
      "\n",
      "int main() {\n",
      "    int a[2] = {41, 42};\n",
      "    int i = 100501;\n",
      "    printf(\"a[%d] = %d\\n\", i, access(a, i)); // обращение к \"чужой\" памяти\n",
      "}\n"
     ]
    }
   ],
   "source": [
    "%%bash\n",
    "cat segfault.c"
   ]
  },
  {
   "cell_type": "code",
   "execution_count": 8,
   "id": "22423255",
   "metadata": {},
   "outputs": [
    {
     "name": "stdout",
     "output_type": "stream",
     "text": [
      "[Thread debugging using libthread_db enabled]\n",
      "Using host libthread_db library \"/lib/x86_64-linux-gnu/libthread_db.so.1\".\n",
      "\n",
      "Program received signal SIGSEGV, Segmentation fault.\n",
      "0x000055555555518c in access (a=0x7fffffffdd10, i=100501) at segfault.c:4\n",
      "4\t    return a[i]; \n"
     ]
    }
   ],
   "source": [
    "%%bash\n",
    "gcc -g segfault.c -o segfault\n",
    "gdb -ex=r -batch ./segfault"
   ]
  },
  {
   "cell_type": "markdown",
   "id": "9327feb1",
   "metadata": {},
   "source": [
    "## Sanitizers\n",
    "Встраиваются в код программы и помогают ловить баги: AddressSanitizer, ThreadSanitizer, и другие. Разберем на примере AddressSanitizer."
   ]
  },
  {
   "cell_type": "markdown",
   "id": "9d65a15f",
   "metadata": {},
   "source": [
    "### Segfault"
   ]
  },
  {
   "cell_type": "code",
   "execution_count": 9,
   "id": "f80bf5fa",
   "metadata": {},
   "outputs": [
    {
     "name": "stderr",
     "output_type": "stream",
     "text": [
      "AddressSanitizer:DEADLYSIGNAL\n",
      "=================================================================\n",
      "==9146==ERROR: AddressSanitizer: SEGV on unknown address 0x7fff1880b604 (pc 0x5634433d52a8 bp 0x7fff187a9370 sp 0x7fff187a9360 T0)\n",
      "==9146==The signal is caused by a READ memory access.\n",
      "    #0 0x5634433d52a8 in access /home/xxeniash/os-seminars/sem01-intro/segfault.c:4\n",
      "    #1 0x5634433d53c7 in main /home/xxeniash/os-seminars/sem01-intro/segfault.c:10\n",
      "    #2 0x7f2d418c4fcf in __libc_start_call_main ../sysdeps/nptl/libc_start_call_main.h:58\n",
      "    #3 0x7f2d418c507c in __libc_start_main_impl ../csu/libc-start.c:409\n",
      "    #4 0x5634433d5184 in _start (/home/xxeniash/os-seminars/sem01-intro/segfault+0x1184)\n",
      "\n",
      "AddressSanitizer can not provide additional info.\n",
      "SUMMARY: AddressSanitizer: SEGV /home/xxeniash/os-seminars/sem01-intro/segfault.c:4 in access\n",
      "==9146==ABORTING\n"
     ]
    },
    {
     "ename": "CalledProcessError",
     "evalue": "Command 'b'gcc -g -fsanitize=address segfault.c -o segfault # \\xd0\\xba\\xd0\\xbe\\xd0\\xbc\\xd0\\xbf\\xd0\\xb8\\xd0\\xbb\\xd0\\xb8\\xd1\\x80\\xd1\\x83\\xd0\\xb5\\xd0\\xbc \\xd1\\x81 \\xd1\\x81\\xd0\\xb0\\xd0\\xbd\\xd0\\xb8\\xd1\\x82\\xd0\\xb0\\xd0\\xb9\\xd0\\xb7\\xd0\\xb5\\xd1\\x80\\xd0\\xbe\\xd0\\xbc\\n./segfault\\n'' returned non-zero exit status 1.",
     "output_type": "error",
     "traceback": [
      "\u001b[0;31m---------------------------------------------------------------------------\u001b[0m",
      "\u001b[0;31mCalledProcessError\u001b[0m                        Traceback (most recent call last)",
      "Input \u001b[0;32mIn [9]\u001b[0m, in \u001b[0;36m<cell line: 1>\u001b[0;34m()\u001b[0m\n\u001b[0;32m----> 1\u001b[0m \u001b[43mget_ipython\u001b[49m\u001b[43m(\u001b[49m\u001b[43m)\u001b[49m\u001b[38;5;241;43m.\u001b[39;49m\u001b[43mrun_cell_magic\u001b[49m\u001b[43m(\u001b[49m\u001b[38;5;124;43m'\u001b[39;49m\u001b[38;5;124;43mbash\u001b[39;49m\u001b[38;5;124;43m'\u001b[39;49m\u001b[43m,\u001b[49m\u001b[43m \u001b[49m\u001b[38;5;124;43m'\u001b[39;49m\u001b[38;5;124;43m'\u001b[39;49m\u001b[43m,\u001b[49m\u001b[43m \u001b[49m\u001b[38;5;124;43m'\u001b[39;49m\u001b[38;5;124;43mgcc -g -fsanitize=address segfault.c -o segfault # компилируем с санитайзером\u001b[39;49m\u001b[38;5;130;43;01m\\n\u001b[39;49;00m\u001b[38;5;124;43m./segfault\u001b[39;49m\u001b[38;5;130;43;01m\\n\u001b[39;49;00m\u001b[38;5;124;43m'\u001b[39;49m\u001b[43m)\u001b[49m\n",
      "File \u001b[0;32m~/.local/lib/python3.9/site-packages/IPython/core/interactiveshell.py:2357\u001b[0m, in \u001b[0;36mInteractiveShell.run_cell_magic\u001b[0;34m(self, magic_name, line, cell)\u001b[0m\n\u001b[1;32m   2355\u001b[0m \u001b[38;5;28;01mwith\u001b[39;00m \u001b[38;5;28mself\u001b[39m\u001b[38;5;241m.\u001b[39mbuiltin_trap:\n\u001b[1;32m   2356\u001b[0m     args \u001b[38;5;241m=\u001b[39m (magic_arg_s, cell)\n\u001b[0;32m-> 2357\u001b[0m     result \u001b[38;5;241m=\u001b[39m \u001b[43mfn\u001b[49m\u001b[43m(\u001b[49m\u001b[38;5;241;43m*\u001b[39;49m\u001b[43margs\u001b[49m\u001b[43m,\u001b[49m\u001b[43m \u001b[49m\u001b[38;5;241;43m*\u001b[39;49m\u001b[38;5;241;43m*\u001b[39;49m\u001b[43mkwargs\u001b[49m\u001b[43m)\u001b[49m\n\u001b[1;32m   2358\u001b[0m \u001b[38;5;28;01mreturn\u001b[39;00m result\n",
      "File \u001b[0;32m~/.local/lib/python3.9/site-packages/IPython/core/magics/script.py:153\u001b[0m, in \u001b[0;36mScriptMagics._make_script_magic.<locals>.named_script_magic\u001b[0;34m(line, cell)\u001b[0m\n\u001b[1;32m    151\u001b[0m \u001b[38;5;28;01melse\u001b[39;00m:\n\u001b[1;32m    152\u001b[0m     line \u001b[38;5;241m=\u001b[39m script\n\u001b[0;32m--> 153\u001b[0m \u001b[38;5;28;01mreturn\u001b[39;00m \u001b[38;5;28;43mself\u001b[39;49m\u001b[38;5;241;43m.\u001b[39;49m\u001b[43mshebang\u001b[49m\u001b[43m(\u001b[49m\u001b[43mline\u001b[49m\u001b[43m,\u001b[49m\u001b[43m \u001b[49m\u001b[43mcell\u001b[49m\u001b[43m)\u001b[49m\n",
      "File \u001b[0;32m~/.local/lib/python3.9/site-packages/IPython/core/magics/script.py:305\u001b[0m, in \u001b[0;36mScriptMagics.shebang\u001b[0;34m(self, line, cell)\u001b[0m\n\u001b[1;32m    300\u001b[0m \u001b[38;5;28;01mif\u001b[39;00m args\u001b[38;5;241m.\u001b[39mraise_error \u001b[38;5;129;01mand\u001b[39;00m p\u001b[38;5;241m.\u001b[39mreturncode \u001b[38;5;241m!=\u001b[39m \u001b[38;5;241m0\u001b[39m:\n\u001b[1;32m    301\u001b[0m     \u001b[38;5;66;03m# If we get here and p.returncode is still None, we must have\u001b[39;00m\n\u001b[1;32m    302\u001b[0m     \u001b[38;5;66;03m# killed it but not yet seen its return code. We don't wait for it,\u001b[39;00m\n\u001b[1;32m    303\u001b[0m     \u001b[38;5;66;03m# in case it's stuck in uninterruptible sleep. -9 = SIGKILL\u001b[39;00m\n\u001b[1;32m    304\u001b[0m     rc \u001b[38;5;241m=\u001b[39m p\u001b[38;5;241m.\u001b[39mreturncode \u001b[38;5;129;01mor\u001b[39;00m \u001b[38;5;241m-\u001b[39m\u001b[38;5;241m9\u001b[39m\n\u001b[0;32m--> 305\u001b[0m     \u001b[38;5;28;01mraise\u001b[39;00m CalledProcessError(rc, cell)\n",
      "\u001b[0;31mCalledProcessError\u001b[0m: Command 'b'gcc -g -fsanitize=address segfault.c -o segfault # \\xd0\\xba\\xd0\\xbe\\xd0\\xbc\\xd0\\xbf\\xd0\\xb8\\xd0\\xbb\\xd0\\xb8\\xd1\\x80\\xd1\\x83\\xd0\\xb5\\xd0\\xbc \\xd1\\x81 \\xd1\\x81\\xd0\\xb0\\xd0\\xbd\\xd0\\xb8\\xd1\\x82\\xd0\\xb0\\xd0\\xb9\\xd0\\xb7\\xd0\\xb5\\xd1\\x80\\xd0\\xbe\\xd0\\xbc\\n./segfault\\n'' returned non-zero exit status 1."
     ]
    }
   ],
   "source": [
    "%%bash\n",
    "gcc -g -fsanitize=address segfault.c -o segfault # компилируем с санитайзером\n",
    "./segfault"
   ]
  },
  {
   "cell_type": "markdown",
   "id": "0ec597d1",
   "metadata": {},
   "source": [
    "### Утечка памяти"
   ]
  },
  {
   "cell_type": "code",
   "execution_count": 10,
   "id": "9038ded9",
   "metadata": {},
   "outputs": [
    {
     "name": "stdout",
     "output_type": "stream",
     "text": [
      "#include <stdio.h>\n",
      "#include <stdlib.h>\n",
      "\n",
      "int main() {\n",
      "    malloc(8);\n",
      "}\n"
     ]
    }
   ],
   "source": [
    "%%bash\n",
    "cat memory_leak.c"
   ]
  },
  {
   "cell_type": "code",
   "execution_count": 11,
   "id": "a003414c",
   "metadata": {},
   "outputs": [
    {
     "name": "stderr",
     "output_type": "stream",
     "text": [
      "memory_leak.c: In function ‘main’:\n",
      "memory_leak.c:5:5: warning: ignoring return value of ‘malloc’ declared with attribute ‘warn_unused_result’ [-Wunused-result]\n",
      "    5 |     malloc(8);\n",
      "      |     ^~~~~~~~~\n",
      "\n",
      "=================================================================\n",
      "==9309==ERROR: LeakSanitizer: detected memory leaks\n",
      "\n",
      "Direct leak of 8 byte(s) in 1 object(s) allocated from:\n",
      "    #0 0x7f82fc65b867 in __interceptor_malloc ../../../../src/libsanitizer/asan/asan_malloc_linux.cpp:145\n",
      "    #1 0x563d5028419a in main /home/xxeniash/os-seminars/sem01-intro/memory_leak.c:5\n",
      "    #2 0x7f82fc3a8fcf in __libc_start_call_main ../sysdeps/nptl/libc_start_call_main.h:58\n",
      "\n",
      "SUMMARY: AddressSanitizer: 8 byte(s) leaked in 1 allocation(s).\n"
     ]
    },
    {
     "ename": "CalledProcessError",
     "evalue": "Command 'b'gcc -g -fsanitize=address memory_leak.c -o memory_leak\\n./memory_leak\\n'' returned non-zero exit status 1.",
     "output_type": "error",
     "traceback": [
      "\u001b[0;31m---------------------------------------------------------------------------\u001b[0m",
      "\u001b[0;31mCalledProcessError\u001b[0m                        Traceback (most recent call last)",
      "Input \u001b[0;32mIn [11]\u001b[0m, in \u001b[0;36m<cell line: 1>\u001b[0;34m()\u001b[0m\n\u001b[0;32m----> 1\u001b[0m \u001b[43mget_ipython\u001b[49m\u001b[43m(\u001b[49m\u001b[43m)\u001b[49m\u001b[38;5;241;43m.\u001b[39;49m\u001b[43mrun_cell_magic\u001b[49m\u001b[43m(\u001b[49m\u001b[38;5;124;43m'\u001b[39;49m\u001b[38;5;124;43mbash\u001b[39;49m\u001b[38;5;124;43m'\u001b[39;49m\u001b[43m,\u001b[49m\u001b[43m \u001b[49m\u001b[38;5;124;43m'\u001b[39;49m\u001b[38;5;124;43m'\u001b[39;49m\u001b[43m,\u001b[49m\u001b[43m \u001b[49m\u001b[38;5;124;43m'\u001b[39;49m\u001b[38;5;124;43mgcc -g -fsanitize=address memory_leak.c -o memory_leak\u001b[39;49m\u001b[38;5;130;43;01m\\n\u001b[39;49;00m\u001b[38;5;124;43m./memory_leak\u001b[39;49m\u001b[38;5;130;43;01m\\n\u001b[39;49;00m\u001b[38;5;124;43m'\u001b[39;49m\u001b[43m)\u001b[49m\n",
      "File \u001b[0;32m~/.local/lib/python3.9/site-packages/IPython/core/interactiveshell.py:2357\u001b[0m, in \u001b[0;36mInteractiveShell.run_cell_magic\u001b[0;34m(self, magic_name, line, cell)\u001b[0m\n\u001b[1;32m   2355\u001b[0m \u001b[38;5;28;01mwith\u001b[39;00m \u001b[38;5;28mself\u001b[39m\u001b[38;5;241m.\u001b[39mbuiltin_trap:\n\u001b[1;32m   2356\u001b[0m     args \u001b[38;5;241m=\u001b[39m (magic_arg_s, cell)\n\u001b[0;32m-> 2357\u001b[0m     result \u001b[38;5;241m=\u001b[39m \u001b[43mfn\u001b[49m\u001b[43m(\u001b[49m\u001b[38;5;241;43m*\u001b[39;49m\u001b[43margs\u001b[49m\u001b[43m,\u001b[49m\u001b[43m \u001b[49m\u001b[38;5;241;43m*\u001b[39;49m\u001b[38;5;241;43m*\u001b[39;49m\u001b[43mkwargs\u001b[49m\u001b[43m)\u001b[49m\n\u001b[1;32m   2358\u001b[0m \u001b[38;5;28;01mreturn\u001b[39;00m result\n",
      "File \u001b[0;32m~/.local/lib/python3.9/site-packages/IPython/core/magics/script.py:153\u001b[0m, in \u001b[0;36mScriptMagics._make_script_magic.<locals>.named_script_magic\u001b[0;34m(line, cell)\u001b[0m\n\u001b[1;32m    151\u001b[0m \u001b[38;5;28;01melse\u001b[39;00m:\n\u001b[1;32m    152\u001b[0m     line \u001b[38;5;241m=\u001b[39m script\n\u001b[0;32m--> 153\u001b[0m \u001b[38;5;28;01mreturn\u001b[39;00m \u001b[38;5;28;43mself\u001b[39;49m\u001b[38;5;241;43m.\u001b[39;49m\u001b[43mshebang\u001b[49m\u001b[43m(\u001b[49m\u001b[43mline\u001b[49m\u001b[43m,\u001b[49m\u001b[43m \u001b[49m\u001b[43mcell\u001b[49m\u001b[43m)\u001b[49m\n",
      "File \u001b[0;32m~/.local/lib/python3.9/site-packages/IPython/core/magics/script.py:305\u001b[0m, in \u001b[0;36mScriptMagics.shebang\u001b[0;34m(self, line, cell)\u001b[0m\n\u001b[1;32m    300\u001b[0m \u001b[38;5;28;01mif\u001b[39;00m args\u001b[38;5;241m.\u001b[39mraise_error \u001b[38;5;129;01mand\u001b[39;00m p\u001b[38;5;241m.\u001b[39mreturncode \u001b[38;5;241m!=\u001b[39m \u001b[38;5;241m0\u001b[39m:\n\u001b[1;32m    301\u001b[0m     \u001b[38;5;66;03m# If we get here and p.returncode is still None, we must have\u001b[39;00m\n\u001b[1;32m    302\u001b[0m     \u001b[38;5;66;03m# killed it but not yet seen its return code. We don't wait for it,\u001b[39;00m\n\u001b[1;32m    303\u001b[0m     \u001b[38;5;66;03m# in case it's stuck in uninterruptible sleep. -9 = SIGKILL\u001b[39;00m\n\u001b[1;32m    304\u001b[0m     rc \u001b[38;5;241m=\u001b[39m p\u001b[38;5;241m.\u001b[39mreturncode \u001b[38;5;129;01mor\u001b[39;00m \u001b[38;5;241m-\u001b[39m\u001b[38;5;241m9\u001b[39m\n\u001b[0;32m--> 305\u001b[0m     \u001b[38;5;28;01mraise\u001b[39;00m CalledProcessError(rc, cell)\n",
      "\u001b[0;31mCalledProcessError\u001b[0m: Command 'b'gcc -g -fsanitize=address memory_leak.c -o memory_leak\\n./memory_leak\\n'' returned non-zero exit status 1."
     ]
    }
   ],
   "source": [
    "%%bash\n",
    "gcc -g -fsanitize=address memory_leak.c -o memory_leak\n",
    "./memory_leak"
   ]
  },
  {
   "cell_type": "markdown",
   "id": "9d4a6491",
   "metadata": {},
   "source": [
    "## Strace\n",
    "Отладка системных вызовов"
   ]
  },
  {
   "cell_type": "code",
   "execution_count": 12,
   "id": "fd274039",
   "metadata": {},
   "outputs": [
    {
     "name": "stdout",
     "output_type": "stream",
     "text": [
      "#include <stdio.h>\n",
      "\n",
      "int main() {\n",
      "    printf(\"Hello world!\\n\");\n",
      "}\n"
     ]
    }
   ],
   "source": [
    "%%bash\n",
    "cat print.c"
   ]
  },
  {
   "cell_type": "code",
   "execution_count": 13,
   "id": "6f45c700",
   "metadata": {},
   "outputs": [
    {
     "name": "stderr",
     "output_type": "stream",
     "text": [
      "execve(\"./print\", [\"./print\"], 0x7fff2746acb0 /* 62 vars */) = 0\n",
      "brk(NULL)                               = 0x5561547a8000\n",
      "arch_prctl(0x3001 /* ARCH_??? */, 0x7ffe843c86c0) = -1 EINVAL (Invalid argument)\n",
      "access(\"/etc/ld.so.preload\", R_OK)      = -1 ENOENT (No such file or directory)\n",
      "openat(AT_FDCWD, \"/etc/ld.so.cache\", O_RDONLY|O_CLOEXEC) = 3\n",
      "newfstatat(3, \"\", {st_mode=S_IFREG|0644, st_size=121691, ...}, AT_EMPTY_PATH) = 0\n",
      "mmap(NULL, 121691, PROT_READ, MAP_PRIVATE, 3, 0) = 0x7f84467e9000\n",
      "close(3)                                = 0\n",
      "openat(AT_FDCWD, \"/lib/x86_64-linux-gnu/libc.so.6\", O_RDONLY|O_CLOEXEC) = 3\n",
      "read(3, \"\\177ELF\\2\\1\\1\\3\\0\\0\\0\\0\\0\\0\\0\\0\\3\\0>\\0\\1\\0\\0\\0000\\242\\2\\0\\0\\0\\0\\0\"..., 832) = 832\n",
      "pread64(3, \"\\6\\0\\0\\0\\4\\0\\0\\0@\\0\\0\\0\\0\\0\\0\\0@\\0\\0\\0\\0\\0\\0\\0@\\0\\0\\0\\0\\0\\0\\0\"..., 784, 64) = 784\n",
      "pread64(3, \"\\4\\0\\0\\0 \\0\\0\\0\\5\\0\\0\\0GNU\\0\\2\\0\\0\\300\\4\\0\\0\\0\\3\\0\\0\\0\\0\\0\\0\\0\"..., 48, 848) = 48\n",
      "pread64(3, \"\\4\\0\\0\\0\\24\\0\\0\\0\\3\\0\\0\\0GNU\\0\\360\\374)\\26\\\\\\276`\\210\\300\\341\\255\\360;\\0H\\373\"..., 68, 896) = 68\n",
      "newfstatat(3, \"\", {st_mode=S_IFREG|0644, st_size=2216272, ...}, AT_EMPTY_PATH) = 0\n",
      "mmap(NULL, 8192, PROT_READ|PROT_WRITE, MAP_PRIVATE|MAP_ANONYMOUS, -1, 0) = 0x7f84467e7000\n",
      "pread64(3, \"\\6\\0\\0\\0\\4\\0\\0\\0@\\0\\0\\0\\0\\0\\0\\0@\\0\\0\\0\\0\\0\\0\\0@\\0\\0\\0\\0\\0\\0\\0\"..., 784, 64) = 784\n",
      "mmap(NULL, 2260560, PROT_READ, MAP_PRIVATE|MAP_DENYWRITE, 3, 0) = 0x7f84465bf000\n",
      "mprotect(0x7f84465e7000, 2019328, PROT_NONE) = 0\n",
      "mmap(0x7f84465e7000, 1654784, PROT_READ|PROT_EXEC, MAP_PRIVATE|MAP_FIXED|MAP_DENYWRITE, 3, 0x28000) = 0x7f84465e7000\n",
      "mmap(0x7f844677b000, 360448, PROT_READ, MAP_PRIVATE|MAP_FIXED|MAP_DENYWRITE, 3, 0x1bc000) = 0x7f844677b000\n",
      "mmap(0x7f84467d4000, 24576, PROT_READ|PROT_WRITE, MAP_PRIVATE|MAP_FIXED|MAP_DENYWRITE, 3, 0x214000) = 0x7f84467d4000\n",
      "mmap(0x7f84467da000, 52816, PROT_READ|PROT_WRITE, MAP_PRIVATE|MAP_FIXED|MAP_ANONYMOUS, -1, 0) = 0x7f84467da000\n",
      "close(3)                                = 0\n",
      "mmap(NULL, 8192, PROT_READ|PROT_WRITE, MAP_PRIVATE|MAP_ANONYMOUS, -1, 0) = 0x7f84465bd000\n",
      "arch_prctl(ARCH_SET_FS, 0x7f84467e85c0) = 0\n",
      "set_tid_address(0x7f84467e8890)         = 9420\n",
      "set_robust_list(0x7f84467e88a0, 24)     = 0\n",
      "mprotect(0x7f84467d4000, 16384, PROT_READ) = 0\n",
      "mprotect(0x556154405000, 4096, PROT_READ) = 0\n",
      "mprotect(0x7f844683a000, 8192, PROT_READ) = 0\n",
      "prlimit64(0, RLIMIT_STACK, NULL, {rlim_cur=8192*1024, rlim_max=RLIM64_INFINITY}) = 0\n",
      "munmap(0x7f84467e9000, 121691)          = 0\n",
      "newfstatat(1, \"\", {st_mode=S_IFIFO|0600, st_size=0, ...}, AT_EMPTY_PATH) = 0\n",
      "getrandom(\"\\x80\\x2d\\xc9\\x34\\xfd\\x1e\\x4a\\x38\", 8, GRND_NONBLOCK) = 8\n",
      "brk(NULL)                               = 0x5561547a8000\n",
      "brk(0x5561547c9000)                     = 0x5561547c9000\n",
      "write(1, \"Hello world!\\n\", 13)          = 13\n",
      "exit_group(0)                           = ?\n",
      "+++ exited with 0 +++\n"
     ]
    },
    {
     "name": "stdout",
     "output_type": "stream",
     "text": [
      "Hello world!\n"
     ]
    }
   ],
   "source": [
    "%%bash\n",
    "gcc print.c -o print\n",
    "strace ./print"
   ]
  },
  {
   "cell_type": "code",
   "execution_count": null,
   "id": "f99e4246",
   "metadata": {},
   "outputs": [],
   "source": []
  }
 ],
 "metadata": {
  "kernelspec": {
   "display_name": "Python 3 (ipykernel)",
   "language": "python",
   "name": "python3"
  },
  "language_info": {
   "codemirror_mode": {
    "name": "ipython",
    "version": 3
   },
   "file_extension": ".py",
   "mimetype": "text/x-python",
   "name": "python",
   "nbconvert_exporter": "python",
   "pygments_lexer": "ipython3",
   "version": "3.9.7"
  }
 },
 "nbformat": 4,
 "nbformat_minor": 5
}
