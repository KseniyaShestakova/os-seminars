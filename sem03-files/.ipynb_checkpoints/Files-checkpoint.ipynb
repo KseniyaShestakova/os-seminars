{
 "cells": [
  {
   "cell_type": "markdown",
   "id": "2d38a5bb",
   "metadata": {},
   "source": [
    "# Файловые системы\n",
    "Сегодня рассмотрим следующие системные вызовы:"
   ]
  },
  {
   "cell_type": "markdown",
   "id": "b1a57d7a",
   "metadata": {},
   "source": [
    "## О связи процессов в системе и файлов\n",
    "Каждому открытому в процессе файлу соответствует число (int) - *файловый дескриптор*.\n",
    "\n",
    "Фиксированные номера для файловых дексрипторов:\n",
    "* 0 - stdin - стандартный поток ввода (STDIN_FILENO - стандартный макрос в C)\n",
    "* 1 - stdout - стандартный поток вывода (STDOUT_FILENO)\n",
    "* 2 - stderr - стандартный поток ошибок (STDERR_FILENO)\n",
    "\n",
    "Остальным открытым файлам соответствуют числа 3, 4 и т.д.\n",
    "\n",
    "Стандартные потоки ввода, вывода и ошибок можно перенаправлять:\n",
    "\n",
    "* `grep String < file.txt` <-> `grep String 0< file.txt`\n",
    "* `mkdir a_dir 2> /dev/null`\n",
    "* `./some_program < in.txt 1> out.txt` <-> `./some_program < in.txt > out.txt` "
   ]
  },
  {
   "cell_type": "markdown",
   "id": "3685db07",
   "metadata": {},
   "source": [
    "## Open and Read\n",
    "Открытие файла:\n",
    "```\n",
    "#include <fcntl.h>\n",
    "int open(const char *pathname, int flags, ... /* mode_t mode */ );\n",
    "```\n",
    "Чтение файла:\n",
    "```\n",
    "#include <unistd.h>\n",
    "\n",
    "ssize_t read(int fd, void buf[.count], size_t count);\n",
    "ssize_t pread(int fd, void buf[.count], size_t count, off_t offset); \n",
    "ssize_t readv(int fd, const struct iovec *iov, int iovcnt); // \n",
    "\n",
    "```\n",
    "`pread()` - чтение начиная с позиции `offset` \\\n",
    "`readv()` - чтение в несколько буфферов, заданных `iov`.\n",
    "\n"
   ]
  },
  {
   "cell_type": "code",
   "execution_count": 5,
   "id": "bf292235",
   "metadata": {},
   "outputs": [
    {
     "name": "stdout",
     "output_type": "stream",
     "text": [
      "#include <sys/types.h>\n",
      "#include <sys/stat.h>\n",
      "#include <fcntl.h>\n",
      "#include <unistd.h>\n",
      "#include <stdio.h>\n",
      "#include <assert.h>\n",
      "\n",
      "int main(int argc, char* argv[]) {\n",
      "    assert(argc >= 2);\n",
      "    int fd = open(argv[1], O_RDONLY);\n",
      "\n",
      "    if (fd < 0) {\n",
      "        fprintf(stderr, \"%s\", \"Error opening file!\\n\");\n",
      "    }\n",
      "    \n",
      "    char buffer[4096];\n",
      "    int bytes_read = read(fd, buffer, sizeof(buffer));\n",
      "    \n",
      "    if (bytes_read < 0) {\n",
      "        fprintf(stderr, \"%s\", \"Error reading file!\\n\");\n",
      "    }\n",
      "    \n",
      "    if (bytes_read < sizeof(buffer)) {\n",
      "        buffer[bytes_read] = 0;\n",
      "    }\n",
      "\n",
      "    printf(\"Read %d bytes: %s\\n\", bytes_read, buffer);\n",
      "\n",
      "    return 0;\n",
      "}\n"
     ]
    }
   ],
   "source": [
    "%%bash\n",
    "cat read.c"
   ]
  },
  {
   "cell_type": "code",
   "execution_count": 4,
   "id": "e99349a0",
   "metadata": {},
   "outputs": [
    {
     "name": "stdout",
     "output_type": "stream",
     "text": [
      "Reading read.txt:\n",
      "Read 13 bytes: hello world!\n",
      "\n",
      "Reading file that does not exist:\n"
     ]
    },
    {
     "name": "stderr",
     "output_type": "stream",
     "text": [
      "Error opening file!\n",
      "Error reading file!\n"
     ]
    },
    {
     "name": "stdout",
     "output_type": "stream",
     "text": [
      "Read -1 bytes: 0\n"
     ]
    }
   ],
   "source": [
    "%%bash\n",
    "gcc read.c -o read\n",
    "echo 'Reading read.txt:'\n",
    "./read read.txt\n",
    "echo 'Reading file that does not exist:'\n",
    "./read no_file.txt"
   ]
  },
  {
   "cell_type": "markdown",
   "id": "a4dd102f",
   "metadata": {},
   "source": [
    "Read может считать меньше байт, чем мы у него запрашиваем, если они на текущий момент не доступны. Для того, чтобы считать именно это количество байт, нужно повторить запрос."
   ]
  },
  {
   "cell_type": "markdown",
   "id": "93c07dff",
   "metadata": {},
   "source": [
    "## Write\n",
    "Запись в файл:\n",
    "```\n",
    "#include <unistd.h>\n",
    "\n",
    "ssize_t write(int fd, const void buf[.count], size_t count);\n",
    "ssize_t pwrite(int fd, const void buf[.count], size_t count, off_t offset);\n",
    "ssize_t writev(int fd, const struct iovec *iov, int iovcnt);\n",
    "```\n",
    "`pwrite()` - запись с позиции `offset` \\\n",
    "`writec()` - собирает данные для вывода из нескольких буферов"
   ]
  },
  {
   "cell_type": "code",
   "execution_count": 6,
   "id": "88f98f8c",
   "metadata": {},
   "outputs": [
    {
     "name": "stdout",
     "output_type": "stream",
     "text": [
      "#include <sys/types.h>\n",
      "#include <sys/stat.h>\n",
      "#include <fcntl.h>\n",
      "#include <unistd.h>\n",
      "#include <stdio.h>\n",
      "#include <assert.h>\n",
      "#include <string.h>\n",
      "\n",
      "int main(int argc, char* argv[]) {\n",
      "    assert(argc >= 2);\n",
      "    int fd = open(argv[1], O_WRONLY);\n",
      "\n",
      "    if (fd < 0) {\n",
      "        fprintf(stderr, \"%s\", \"Error opening file!\\n\");\n",
      "    }\n",
      "    \n",
      "    const char buffer[] = \"Hello world!\\n\";\n",
      "    int bytes_written = write(fd, buffer, strlen(buffer));\n",
      "    \n",
      "    if (bytes_written < 0) {\n",
      "        fprintf(stderr, \"%s\", \"Error writing to file!\\n\");\n",
      "    }\n",
      "    \n",
      "    printf(\"Wrote %d bytes\\n\", bytes_written);\n",
      "\n",
      "    return 0;\n",
      "}\n"
     ]
    }
   ],
   "source": [
    "%%bash\n",
    "cat write.c"
   ]
  },
  {
   "cell_type": "code",
   "execution_count": 8,
   "id": "9b39b8cc",
   "metadata": {},
   "outputs": [
    {
     "name": "stdout",
     "output_type": "stream",
     "text": [
      "Writing to write.txt: \n",
      "Wrote 13 bytes\n",
      "Hello world!\n",
      "\n",
      "Writing to no_file.txt: \n"
     ]
    },
    {
     "name": "stderr",
     "output_type": "stream",
     "text": [
      "Error opening file!\n",
      "Error writing to file!\n"
     ]
    },
    {
     "name": "stdout",
     "output_type": "stream",
     "text": [
      "Wrote -1 bytes\n"
     ]
    }
   ],
   "source": [
    "%%bash\n",
    "gcc write.c -o write\n",
    "echo 'Writing to write.txt: '\n",
    "./write write.txt\n",
    "cat write.txt\n",
    "echo ''\n",
    "echo 'Writing to no_file.txt: '\n",
    "./write no_file.txt"
   ]
  },
  {
   "cell_type": "markdown",
   "id": "844cd89a",
   "metadata": {},
   "source": [
    "С `write` возникает та же проблема, что и с `read`."
   ]
  },
  {
   "cell_type": "markdown",
   "id": "11754058",
   "metadata": {},
   "source": [
    "## Общий пример"
   ]
  },
  {
   "cell_type": "code",
   "execution_count": 10,
   "id": "c55412d8",
   "metadata": {},
   "outputs": [
    {
     "name": "stdout",
     "output_type": "stream",
     "text": [
      "#include <sys/types.h>\n",
      "#include <sys/stat.h>\n",
      "#include <fcntl.h>\n",
      "#include <unistd.h>\n",
      "#include <stdio.h>\n",
      "#include <stdlib.h>\n",
      "\n",
      "int main(int argc, char *argv[])\n",
      "{\n",
      "    printf(\"Linux by printf\");\n",
      "    \n",
      "    char linux_str[] = \"Linux by write\\n\";\n",
      "    \n",
      "    // write\n",
      "    // 1 = STDOUT_FILENO - изначально открытый файловый дескриптор соответствующий stdout\n",
      "    // linux_str - указатель на начало данных, \n",
      "    // sizeof(linux_str) - размер данных, которые хотим записать\n",
      "    // ВАЖНО, что write может записать не все данные \n",
      "    //        и тогда его надо перезапустить\n",
      "    //        но в данном примере этого нет\n",
      "    // Подробнее в `man 2 write`\n",
      "    write(1, linux_str, sizeof(linux_str) - 1); \n",
      "        \n",
      "    if (argc < 2) {\n",
      "        fprintf(stderr, \"Need at least 2 arguments\\n\");\n",
      "        return 1;\n",
      "    }\n",
      "    int fd = open(argv[1], O_RDONLY); // открываем файл и получаем связанный файловый дескриптор\n",
      "                                      // O_RDONLY - флаг о том, что открываем в read-only режиме\n",
      "                                      // подробнее в `man 2 open`\n",
      "    if (fd < 0) {\n",
      "        perror(\"Can't open file\"); // Выводит указанную строку в stderr \n",
      "                                   // + добавляет сообщение и последней произошедшей ошибке \n",
      "                                   // ошибка хранится в errno\n",
      "        return -1;\n",
      "    }\n",
      "    \n",
      "    char buffer[4096];\n",
      "    int bytes_read = read(fd, buffer, sizeof(buffer)); // fd - файловый дескриптор выше открытого файла\n",
      "                                                       // 2 и 3 аргументы как во write\n",
      "                                                       // Так же как и write может прочитать МЕНЬШЕ\n",
      "                                                       //   чем запрошено в 3м аргументе\n",
      "                                                       //   это может быть связано как с концом файла\n",
      "                                                       //   так и с каким-то более приоритетным событием\n",
      "    if (bytes_read < 0) {\n",
      "        perror(\"Error reading file\");\n",
      "        close(fd); // закрываем файл связанный с файловым дескриптором. Ну или не файл. \n",
      "                   // Стандартные дескрипторы 0, 1, 2 тоже можно так закрывать\n",
      "        return -1;\n",
      "    }\n",
      "    char buffer2[4096];\n",
      "    // формирование строки с текстом\n",
      "    int written_bytes = snprintf(buffer2, sizeof(buffer2), \n",
      "        \"%d bytes read: '''%.*s'''\\n\", bytes_read, bytes_read, buffer);\n",
      "    write(1, buffer2, written_bytes);\n",
      "    close(fd);\n",
      "    return 0;\n",
      "}\n"
     ]
    }
   ],
   "source": [
    "%%bash\n",
    "cat read_and_write.c"
   ]
  },
  {
   "cell_type": "code",
   "execution_count": 11,
   "id": "efe741ae",
   "metadata": {},
   "outputs": [
    {
     "name": "stdout",
     "output_type": "stream",
     "text": [
      "Linux by write\n",
      "11 bytes read: '''read input\n",
      "'''\n",
      "Linux by printf"
     ]
    }
   ],
   "source": [
    "%%bash\n",
    "gcc read_and_write.c -o read_and_write\n",
    "./read_and_write read.txt"
   ]
  },
  {
   "cell_type": "markdown",
   "id": "6da17a05",
   "metadata": {},
   "source": [
    "## Чтение и запись с произвольной позиции в файле с lseek\n",
    "```\n",
    "off_t lseek(int fd, off_t offset, int whence);\n",
    "```\n",
    "Варианты для `whence`:\n",
    "* `SEEK_SET` - от начала файла\n",
    "* `SEEK_END` - от конца\n",
    "* `SEEK_CUR` - от текущей позиции\n"
   ]
  },
  {
   "cell_type": "code",
   "execution_count": 12,
   "id": "4119b3a2",
   "metadata": {},
   "outputs": [
    {
     "name": "stdout",
     "output_type": "stream",
     "text": [
      "#include <assert.h>\n",
      "#include <fcntl.h>\n",
      "#include <inttypes.h>\n",
      "#include <stdio.h>\n",
      "#include <sys/types.h>\n",
      "#include <sys/stat.h>\n",
      "#include <unistd.h>\n",
      "\n",
      "int main(int argc, char* argv[]) {\n",
      "    assert(argc >= 2);\n",
      "\n",
      "    int fd = open(argv[1], O_RDWR | O_CREAT);\n",
      "\n",
      "    // получим размер файла, переместившись в его конец\n",
      "    int size = lseek(fd, 0, SEEK_END);\n",
      "    printf(\"File size: %d\\n\", size);\n",
      "\n",
      "    // если размер меньше 2, то допишем строку\n",
      "    if (size < 2) {\n",
      "        const char s[] = \"ab\";\n",
      "        lseek(fd, 0, SEEK_SET); // перемещаемся в начало\n",
      "        write(fd, s, sizeof(s) - 1);\n",
      "\n",
      "        size = lseek(fd, 0, SEEK_END);\n",
      "        printf(\"New file size: %d\\n\", size);\n",
      "    }\n",
      "\n",
      "    // теперь прочитаем второй символ\n",
      "    lseek(fd, 1, SEEK_SET);\n",
      "    char c;\n",
      "    read(fd, &c, 1);\n",
      "\n",
      "    printf(\"Second char: %c\\n\", c);\n",
      "\n",
      "    return 0;\n",
      "\n",
      "}\n"
     ]
    }
   ],
   "source": [
    "%%bash\n",
    "cat lseek.c"
   ]
  },
  {
   "cell_type": "code",
   "execution_count": 13,
   "id": "60bd3170",
   "metadata": {},
   "outputs": [
    {
     "name": "stdout",
     "output_type": "stream",
     "text": [
      "File size: 2\n",
      "Second char: b\n"
     ]
    }
   ],
   "source": [
    "%%bash\n",
    "gcc lseek.c -o lseek\n",
    "./lseek new.txt"
   ]
  },
  {
   "cell_type": "markdown",
   "id": "60c8c50d",
   "metadata": {},
   "source": [
    "## Чтение и запись с произвольной позиции в файле с pwread  и pwrite"
   ]
  },
  {
   "cell_type": "code",
   "execution_count": 14,
   "id": "533150e4",
   "metadata": {},
   "outputs": [
    {
     "name": "stdout",
     "output_type": "stream",
     "text": [
      "#include <assert.h>\n",
      "#include <fcntl.h>\n",
      "#include <inttypes.h>\n",
      "#include <stdio.h>\n",
      "#include <sys/types.h>\n",
      "#include <sys/stat.h>\n",
      "#include <unistd.h>\n",
      "\n",
      "int main(int argc, char* argv[]) {\n",
      "    assert(argc >= 2);\n",
      "\n",
      "    int fd = open(argv[1], O_RDWR | O_CREAT);\n",
      "\n",
      "    // получим размер файла, переместившись в его конец\n",
      "    int size = lseek(fd, 0, SEEK_END);\n",
      "    printf(\"File size: %d\\n\", size);\n",
      "\n",
      "    // если размер меньше 2, то допишем строку\n",
      "    if (size < 2) {\n",
      "        const char s[] = \"ab\";\n",
      "        pwrite(fd, s, sizeof(s) - 1, /*offset =  */0);\n",
      "\n",
      "        size = lseek(fd, 0, SEEK_END);\n",
      "        printf(\"New file size: %d\\n\", size);\n",
      "    }\n",
      "\n",
      "    // теперь прочитаем второй символ\n",
      "    char c;\n",
      "    pread(fd, &c, 1, /*offset = */1);\n",
      "\n",
      "    printf(\"Second char: %c\\n\", c);\n",
      "\n",
      "    return 0;\n",
      "\n",
      "}\n"
     ]
    }
   ],
   "source": [
    "%%bash\n",
    "cat pread_pwrite.c"
   ]
  },
  {
   "cell_type": "code",
   "execution_count": 15,
   "id": "9a1645bc",
   "metadata": {},
   "outputs": [
    {
     "name": "stdout",
     "output_type": "stream",
     "text": [
      "File size: 2\n",
      "Second char: b\n"
     ]
    }
   ],
   "source": [
    "%%bash\n",
    "gcc pread_pwrite.c -o pread_pwrite\n",
    "./pread_pwrite new.txt"
   ]
  },
  {
   "cell_type": "markdown",
   "id": "ed00cc2b",
   "metadata": {},
   "source": [
    "## Файловая система в Linux\n",
    "Файловая система Linux - иерархическая, т.е. есть корневая директория (`/`), ее поддиректории, их поддиректории и т.д.\n",
    "\n",
    "Парадигма Linux: **everything is a file**.\n",
    "\n",
    "Типы файлов в Linux:\n",
    "* регулярные\n",
    "* директории\n",
    "* символические ссылки\n",
    "* сокеты и именованные пайпы\n",
    "* символьные и блочные устройства\n",
    "\n",
    "*Жесткая ссылка* - дополнительное имя существующего файла. Создание новой жесткой ссылки:\n",
    "```\n",
    "ln {source} {link}\n",
    "```\n",
    "*Символическая (мягкая) ссылка* - файл, содержащий путь к другому файлу. Создание новой символической ссылки:\n",
    "```\n",
    "ln -s {source} {link}\n",
    "```\n",
    "\n",
    "## Атрибуты файлов и разные способы их получить\n",
    "Атрибуты файла хранятся в структуре `stat`.\n",
    "Описание структуры `stat` из `man 2 stat`:\n",
    "\n",
    "```c\n",
    "struct stat {\n",
    "   dev_t     st_dev;         /* ID of device containing file */\n",
    "   ino_t     st_ino;         /* inode number */\n",
    "   mode_t    st_mode;        /* protection */\n",
    "   nlink_t   st_nlink;       /* number of hard links */\n",
    "   uid_t     st_uid;         /* user ID of owner */\n",
    "   gid_t     st_gid;         /* group ID of owner */\n",
    "   dev_t     st_rdev;        /* device ID (if special file) */\n",
    "   off_t     st_size;        /* total size, in bytes */\n",
    "   blksize_t st_blksize;     /* blocksize for filesystem I/O */\n",
    "   blkcnt_t  st_blocks;      /* number of 512B blocks allocated */\n",
    "\n",
    "   /* Since Linux 2.6, the kernel supports nanosecond\n",
    "      precision for the following timestamp fields.\n",
    "      For the details before Linux 2.6, see NOTES. */\n",
    "\n",
    "   struct timespec st_atim;  /* time of last access */\n",
    "   struct timespec st_mtim;  /* time of last modification */\n",
    "   struct timespec st_ctim;  /* time of last status change */\n",
    "\n",
    "#define st_atime st_atim.tv_sec      /* Backward compatibility */\n",
    "#define st_mtime st_mtim.tv_sec\n",
    "#define st_ctime st_ctim.tv_sec\n",
    "};\n",
    "```\n",
    "\n",
    "Разные способы получить атрибуты файла:\n",
    "```c\n",
    "#include <sys/types.h>\n",
    "#include <sys/stat.h>\n",
    "#include <unistd.h>\n",
    "\n",
    "int stat(const char *pathname, struct stat *buf);\n",
    "int fstat(int fd, struct stat *buf);\n",
    "int lstat(const char *pathname, struct stat *buf);\n",
    "\n",
    "#include <fcntl.h>           /* Definition of AT_* constants */\n",
    "#include <sys/stat.h>\n",
    "\n",
    "int fstatat(int dirfd, const char *pathname, struct stat *buf,\n",
    "\t\t   int flags);\n",
    "```\n",
    "\n",
    "Разница между `stat` и `lstat`: если путь `pathname` является путем к символической ссылке, то `stat` вернет атрибуты файла, к которому она ведет, а `lstat` атрибуты самой ссылки.\n",
    "\n",
    "Особый интерес будет представлять поле `.st_mode`\n",
    "\n",
    "Биты соответствующие маскам:\n",
    "* `0170000` - тип файла.\n",
    "\n",
    "  Эти биты стоит рассматривать как одно число, по значению которого можно определить тип файла. Сравнивая это число с:  \n",
    "    * `S_IFSOCK   0140000   socket`\n",
    "    * `S_IFLNK    0120000   symbolic link`\n",
    "    * `S_IFREG    0100000   regular file`\n",
    "    * `S_IFBLK    0060000   block device`\n",
    "    * `S_IFDIR    0040000   directory`\n",
    "    * `S_IFCHR    0020000   character device`\n",
    "    * `S_IFIFO    0010000   FIFO`\n",
    "* `0777` - права на файл.\n",
    "\n",
    "  Эти биты можно рассматривать как независимые биты, каджый из которых отвечает за право (пользователя, его группы, всех остальных) (читать/писать/выполнять) файл.\n",
    "  \n",
    "**Замечание:** имя файла не является его атрибутом.\n"
   ]
  },
  {
   "cell_type": "code",
   "execution_count": 16,
   "id": "b4b71655",
   "metadata": {},
   "outputs": [
    {
     "name": "stdout",
     "output_type": "stream",
     "text": [
      "#include <sys/types.h>\n",
      "#include <sys/stat.h>\n",
      "#include <fcntl.h>\n",
      "#include <unistd.h>\n",
      "#include <stdio.h>\n",
      "\n",
      "void describe_stat_st_mode(const struct stat* s) {   \n",
      "    printf(\"is regular: %s    \", ((s->st_mode & S_IFMT) == S_IFREG) ? \"yes\" : \"no \"); // can use predefined mask\n",
      "    printf(\"is directory: %s    \", S_ISDIR(s->st_mode) ? \"yes\" : \"no \"); // or predefined macro\n",
      "    printf(\"is symbolic link: %s\\n\", S_ISLNK(s->st_mode) ? \"yes\" : \"no \"); \n",
      "};\n",
      "\n",
      "\n",
      "int main(int argc, char *argv[])\n",
      "{\n",
      "    int fd = open(argv[1], O_RDONLY);\n",
      "    struct stat s;\n",
      "    fstat(fd, &s); // get stat for stdin\n",
      "    describe_stat_st_mode(&s); \n",
      "    return 0;\n",
      "}\n"
     ]
    }
   ],
   "source": [
    "%%bash\n",
    "cat stat.c"
   ]
  },
  {
   "cell_type": "code",
   "execution_count": 18,
   "id": "0e361f9c",
   "metadata": {},
   "outputs": [
    {
     "name": "stdout",
     "output_type": "stream",
     "text": [
      "is regular: yes    is directory: no     is symbolic link: no \n"
     ]
    }
   ],
   "source": [
    "%%bash\n",
    "gcc stat.c -o stat\n",
    "./stat new.txt"
   ]
  },
  {
   "cell_type": "markdown",
   "id": "60e96833",
   "metadata": {},
   "source": [
    "## Работа с директориями\n",
    "Создание директории:\n",
    "```c\n",
    "#include <sys/stat.h>\n",
    "\n",
    "int mkdir(const char *pathname, mode_t mode);\n",
    "```\n",
    "В случае успеха вернет 0, иначе 1.\n",
    "\n",
    "Работа с директориями:\n",
    "```c\n",
    "#include <sys/types.h>\n",
    "#include <dirent.h>\n",
    "\n",
    "DIR *opendir(const char *name);\n",
    "DIR *fdopendir(int fd);\n",
    "```\n",
    "\n",
    "Посмотрим, как вывести список файлов в директории."
   ]
  },
  {
   "cell_type": "code",
   "execution_count": 19,
   "id": "3effed3a",
   "metadata": {},
   "outputs": [
    {
     "name": "stdout",
     "output_type": "stream",
     "text": [
      ".git\n",
      "..\n",
      "sem01-intro\n",
      "sem03-files\n",
      "sem02-int-float-string\n",
      ".\n"
     ]
    }
   ],
   "source": [
    "%%bash\n",
    "gcc dir.c -o dir\n",
    "./dir .."
   ]
  },
  {
   "cell_type": "markdown",
   "id": "327184eb",
   "metadata": {},
   "source": [
    "## Работа со временем\n",
    "### Текущее время\n",
    "\n",
    "\n",
    "```\n",
    "#include <time.h>\n",
    "\n",
    "time_t time(time_t *_Nullable tloc);\n",
    "```\n",
    "`time` возвращает количество секунд, прошедших с начала эпохи (1 января 1970 года).\n",
    "\n",
    "**Вопрос:** в чем проблема с функцией `time`?\n",
    "\n",
    "В случае, когда требуется более высокая точность, чем 1 секунда, можно использовать системный вызов `gettimeofday`, который позволяет получить текущее время в виде структуры:\n",
    "```\n",
    "struct timeval {\n",
    "  time_t      tv_sec;  // секунды\n",
    "  suseconds_t tv_usec; // микросекунды\n",
    "};\n",
    "```\n",
    "\n",
    "В этом случае, несмотря на то, что в структуре определено поле для микросекунд, реальная точность будет составлять порядка 10-20 миллисекунд для Linux.\n",
    "\n",
    "Более высокую точность можно получить с помощью системного вызова `clock_gettime`.\n",
    "\n",
    "\n",
    "### Разложение времени на составляющие\n",
    "\n",
    "Человеко-представимое время состоит из даты (год, месяц, день) и времени суток (часы, минуты, секунды).\n",
    "\n",
    "Это описывается структурой:\n",
    "```\n",
    "struct tm { /* время, разбитое на составляющие */\n",
    "  int tm_sec; /* секунды от начала минуты: [0 -60] */\n",
    "  int tm_min; /* минуты от начала часа: [0 - 59] */\n",
    "  int tm_hour; /* часы от полуночи: [0 - 23] */\n",
    "  int tm_mday; /* дни от начала месяца: [1 - 31] */\n",
    "  int tm_mon; /* месяцы с января: [0 - 11] */\n",
    "  int tm_year; /* годы с 1900 года */\n",
    "  int tm_wday; /* дни с воскресенья: [0 - 6] */\n",
    "  int tm_yday; /* дни от начала года (1 января): [0 - 365] */\n",
    "  int tm_isdst; /* флаг перехода на летнее время: <0, 0, >0 */\n",
    "};\n",
    "```\n",
    "Для преобразования человеко-читаемого времени в машинное используется функция `mktime`, а в обратную сторону - одной из функций: `gmtime` или `localtime`.\n",
    "\n",
    "\n",
    "\n",
    "### Reentrant-функции\n",
    "\n",
    "Многие функции POSIX API разрабатывались во времена однопроцессорных систем. Это может приводить к разным неприятным последствиям:\n",
    "\n",
    "```\n",
    "struct tm * tm_1 = localtime(NULL);\n",
    "struct tm * tm_2 = localtime(NULL); // opps! *tm_1 changed!\n",
    "```\n",
    "\n",
    "Проблема заключается в том, что некоторые функции, например `localtime`, возвращает указатель на структуру-результат, а не скалярное значение. При этом, сами данные структуры не требуется удалять, - они хранятся в `.data`-области библиотеки glibc.\n",
    "\n",
    "Проблема решается введением *повторно входимых (reentrant)* функций, которые в обязательном порядке трубуют в качестве одного из аргументов указатель на место в памяти для размещения результата:\n",
    "```\n",
    "struct tm tm_1; localtime_r(NULL, &tm_1);\n",
    "struct tm tm_2; localtime_r(NULL, &tm_2); // OK\n",
    "```\n",
    "\n",
    "Использование повторно входимых функций является обязательным (но не достаточным) условием при написании многопоточных программ.\n"
   ]
  },
  {
   "cell_type": "markdown",
   "id": "d4525972",
   "metadata": {},
   "source": [
    "## FUSE\n",
    "\n",
    "Файловые системы обычно реализуются в виде модулей ядра, которые работают в адресном пространстве ядра.\n",
    "\n",
    "Монтирование осуществляется командой mount(8), которой необходимо указать:\n",
    "\n",
    "* *точку монтирования* - каталог в виртуальной файловой системе, в котором будет доступно содержимое смонтированной файловой системы;\n",
    "* *тип файловой системы* - один из поддерживаемых типов: ext2, vfat и др. Если не указать тип файловой системы, то ядро попытается автоматически определить её тип, но сделать это ему не всегда удаётся;\n",
    "* *устройство для монтирования* - как правило, блочное, устройство для монтирования реальных устройств, либо URI для сетевых ресурсов, либо имя файла для монтирования образа.\n",
    "\n",
    "**FUSE (Filesystem in Userspace)** - фреймворк для создания файловых систем в пользовательском пространстве. Для написания своей файловой системы надо будет переопределить функции read, write, stat и т.п.\n",
    "\n",
    "Подробнее можно почитать в [ридинге Яковлева](https://github.com/victor-yacovlev/fpmi-caos/tree/master/practice/fuse)."
   ]
  },
  {
   "cell_type": "code",
   "execution_count": null,
   "id": "c4ac3221",
   "metadata": {},
   "outputs": [],
   "source": []
  }
 ],
 "metadata": {
  "kernelspec": {
   "display_name": "Python 3 (ipykernel)",
   "language": "python",
   "name": "python3"
  },
  "language_info": {
   "codemirror_mode": {
    "name": "ipython",
    "version": 3
   },
   "file_extension": ".py",
   "mimetype": "text/x-python",
   "name": "python",
   "nbconvert_exporter": "python",
   "pygments_lexer": "ipython3",
   "version": "3.9.7"
  }
 },
 "nbformat": 4,
 "nbformat_minor": 5
}
