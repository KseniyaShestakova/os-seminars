{
 "cells": [
  {
   "cell_type": "markdown",
   "id": "86d3b207",
   "metadata": {},
   "source": [
    "# Работа с памятью\n",
    "\n",
    "\n",
    "## Краткое повторение лекции\n",
    "\n",
    "**Основное про память в ОС**:\n",
    "* Физическая память делится на куски разного размера — сегменты\n",
    "* За каждым процессом закрепляются несколько сегментов: сегмент с кодом, сегмент с данными, сегмент со стеком итд\n",
    "* Обращения между сегментами контролируются ОС\n",
    "\n",
    "**Виртуальная память и страничная адресация*\n",
    "* Вся физическая память делится на *фреймы* - куски равного размера (4096 байт на x86)\n",
    "* Каждому процессу выделяется свое *изолированное 64-битное адресное пространство*\n",
    "* Эта *виртуальная память* делится на **страницы** аналогично фреймам\n",
    "* Каждой странице а адресном пространстве может соответствовать какой-то фрейм\n",
    "\n",
    "Подробнее про виртуальную память, страничную адресацию (в частности, hierarchical page tables) - на лекции.\n",
    "\n",
    "## Page fault\n",
    "Как правило, память выделяется с помощью `mmap()` или `malloc()`. По умолчанию, ядро не сразу выделяет физические страницы для каждого запроса на выделение памяти. Иногда это приводит к *page fault* -  ситуации, когда мы обращаемся к странице памяти без должной подготовки.\n",
    "\n",
    "**Minor page fault** - обращение к странице, которая уже присутствует в RAM, но у процессора еще нет правильного отображения (mapping) на эту страницу. Если у процессора достаточно свободной памяти, то обращение к буферам выделенным с помощью `malloc` может быть обработано с `minor page fault`.\n",
    "\n",
    "**Major page fault** - обращение к странице, которая еще не выгружена в RAM. Например, такое может быть, если обратиться к *swapped-out* страницам, или при чтении из файла, который только что был отображен на память с помощью `mmap`."
   ]
  },
  {
   "cell_type": "code",
   "execution_count": 4,
   "id": "ec53e0a2",
   "metadata": {},
   "outputs": [
    {
     "name": "stdout",
     "output_type": "stream",
     "text": [
      "Writing read_to_buff.cpp\n"
     ]
    }
   ],
   "source": [
    "%%file read_to_buff.cpp\n",
    "\n",
    "#include <sys/types.h>\n",
    "#include <sys/stat.h>\n",
    "#include <fcntl.h>\n",
    "#include <unistd.h>\n",
    "#include <stdio.h>\n",
    "#include <assert.h>\n",
    "\n",
    "int main(int argc, char** argv) {\n",
    "    assert(argc == 3);\n",
    "    int buff_size = 1;\n",
    "    \n",
    "    int ret = sscanf(argv[1], \"%d\", &buff_size);\n",
    "    assert(ret == 1);\n",
    "    \n",
    "    int fd = open(argv[2], O_RDONLY);\n",
    "    assert(fd >= 0);\n",
    "    \n",
    "    char buff[buff_size];\n",
    "    \n",
    "    int result = 0;\n",
    "    int cnt = 0;\n",
    "    \n",
    "    while ((cnt = read(fd, buff, buff_size)) > 0) {\n",
    "        for (int i = 0; i < cnt; ++i) {\n",
    "            result += buff[i];\n",
    "        }\n",
    "    }\n",
    "    printf(\"CNT: %d\\n\", cnt);\n",
    "    return 0;\n",
    "}"
   ]
  },
  {
   "cell_type": "code",
   "execution_count": 16,
   "id": "fbaeef63",
   "metadata": {},
   "outputs": [],
   "source": [
    "%%bash\n",
    "for i in {0..1000000} ; do echo -n '1' ; done > input.txt"
   ]
  },
  {
   "cell_type": "code",
   "execution_count": 17,
   "id": "3e5e675a",
   "metadata": {},
   "outputs": [],
   "source": [
    "%%bash\n",
    "gcc read_to_buff.cpp -o read_to_buff"
   ]
  },
  {
   "cell_type": "code",
   "execution_count": 18,
   "id": "c93d2bfd",
   "metadata": {},
   "outputs": [
    {
     "name": "stdout",
     "output_type": "stream",
     "text": [
      "1000001 input.txt\n"
     ]
    }
   ],
   "source": [
    "%%bash\n",
    "wc -c input.txt"
   ]
  },
  {
   "cell_type": "code",
   "execution_count": 26,
   "id": "32f7ab89",
   "metadata": {},
   "outputs": [
    {
     "name": "stdout",
     "output_type": "stream",
     "text": [
      "CNT: 0\n"
     ]
    },
    {
     "name": "stderr",
     "output_type": "stream",
     "text": [
      "0.04user 0.15system 0:00.19elapsed 100%CPU (0avgtext+0avgdata 1564maxresident)k\n",
      "0inputs+0outputs (0major+74minor)pagefaults 0swaps\n"
     ]
    }
   ],
   "source": [
    "%%bash\n",
    "\\time ./read_to_buff 1 input.txt"
   ]
  },
  {
   "cell_type": "code",
   "execution_count": 27,
   "id": "bbbe10fa",
   "metadata": {},
   "outputs": [
    {
     "name": "stdout",
     "output_type": "stream",
     "text": [
      "CNT: 0\n"
     ]
    },
    {
     "name": "stderr",
     "output_type": "stream",
     "text": [
      "0.00user 0.00system 0:00.00elapsed 100%CPU (0avgtext+0avgdata 1684maxresident)k\n",
      "0inputs+0outputs (0major+73minor)pagefaults 0swaps\n"
     ]
    }
   ],
   "source": [
    "%%bash\n",
    "\\time ./read_to_buff 100 input.txt"
   ]
  },
  {
   "cell_type": "markdown",
   "id": "ac470db6",
   "metadata": {},
   "source": [
    "## Мониторинг с помощью perf\n",
    "Установка:\n",
    "```\n",
    "sudo apt-get install linux-tools-common linux-tools-generic linux-tools-`uname -r`\n",
    "```\n",
    "Использование:\n",
    "```\n",
    "sudo -S perf stat ./read_to_buff 1000 input.txt 2>&1 \n",
    "```\n",
    "\n",
    "После запуска последней команды получаем такой результат:\n",
    "```\n",
    "CNT: 0\n",
    "\n",
    " Performance counter stats for './read_to_buff 1000 input.txt':\n",
    "\n",
    "              2,75 msec task-clock                #    0,888 CPUs utilized          \n",
    "                 0      context-switches          #    0,000 /sec                   \n",
    "                 0      cpu-migrations            #    0,000 /sec                   \n",
    "                62      page-faults               #   22,577 K/sec                  \n",
    "         9 305 034      cycles                    #    3,388 GHz                    \n",
    "        12 609 029      instructions              #    1,36  insn per cycle         \n",
    "         1 510 267      branches                  #  549,962 M/sec                  \n",
    "             7 977      branch-misses             #    0,53% of all branches        \n",
    "\n",
    "       0,003091555 seconds time elapsed\n",
    "\n",
    "       0,003152000 seconds user\n",
    "       0,000000000 seconds sys\n",
    "```"
   ]
  },
  {
   "cell_type": "markdown",
   "id": "e9dbb678",
   "metadata": {},
   "source": [
    "## Кэши процессора\n",
    "**Два принципа локальности кэшей:**\n",
    "* *Temporal locality*: если процесс прочитал какую-то память, то скорее всего, скоро он прочитает её ещё раз\n",
    "* *Spatial locality*: если процесс прочитал какую-то память, то, скорее всего, скоро он прочитает память следующую за ней\n",
    "\n",
    "**Основное о кэшах процессора:**\n",
    "* Мало данных, очень быстрый доступ\n",
    "* Кэши иерархичны: L1, L2, L3\n",
    "* Обычно из памяти зачитывается сразу кэш-линия (64 байта)\n",
    "* LRU (least recently used) для вытеснения данных\n",
    "\n",
    "**Об уровнях кэшей:**\n",
    "* L1 кэш: per-core кэш, обычно разделён на кэш инструкций (L1i) и кэш данных (L2d), доступ: low-priority цикла, ~0.5 ns\n",
    "* L2 кэш: больше по размеру, может разделяться на несколько ядер, доступ: ~12 циклов, ~4-7 ns\n",
    "* L3 кэш: ещё больше по размеру (1-8 Mb), обычно один на процессор, доступ: ~40-80 циклов, ~12-20 ns\n",
    "* Доступ к DRAM (если известен физический адрес): 50-100 циклов, 16+ ns\n",
    "\n",
    "В этом [обсуждении](https://stackoverflow.com/questions/21369381/measuring-cache-latencies) можно почитать про то, как побенчмаркать кэш самостоятельно.\n",
    "\n",
    "Средние значения:\n",
    "```\n",
    "L1 cache reference                           0.5 ns\n",
    "Branch mispredict                            5   ns\n",
    "L2 cache reference                           7   ns                      14x L1 cache\n",
    "Mutex lock/unlock                           25   ns\n",
    "Main memory reference                      100   ns                      20x L2 cache, 200x L1 cache\n",
    "Compress 1K bytes with Snappy            3,000   ns        3 µs\n",
    "Read 1 MB sequentially from memory      20,000   ns       20 µs          ~50GB/sec DDR5\n",
    "Read 1 MB sequentially from NVMe       100,000   ns      100 µs          ~10GB/sec NVMe, 5x memory\n",
    "Round trip within same datacenter      500,000   ns      500 µs\n",
    "Read 1 MB sequentially from SSD      2,000,000   ns    2,000 µs    2 ms  ~0.5GB/sec SSD, 100x memory, 20x NVMe\n",
    "Read 1 MB sequentially from HDD      6,000,000   ns    6,000 µs    6 ms  ~150MB/sec 300x memory, 60x NVMe, 3x SSD\n",
    "Send 1 MB over 1 Gbps network       10,000,000   ns   10,000 µs   10 ms\n",
    "Disk seek                           10,000,000   ns   10,000 µs   10 ms  20x datacenter roundtrip\n",
    "Send packet CA->Netherlands->CA    150,000,000   ns  150,000 µs  150 ms\n",
    "```"
   ]
  },
  {
   "cell_type": "markdown",
   "id": "0ebc893b",
   "metadata": {},
   "source": [
    "## Системный вызов mmap\n",
    "(взято из [ридинга Яковлева](https://github.com/victor-yacovlev/fpmi-caos/tree/master/practice/mmap) )\n",
    "\n",
    "\n",
    "```c\n",
    "#include <sys/mman.h>\n",
    "\n",
    "void *mmap(\n",
    "    void *addr,    /* рекомендуемый адрес отображения. Должен быть выровнен! */\n",
    "    size_t length, /* размер отображения */\n",
    "    int prot,      /* аттрибуты доступа */\n",
    "    int flags,     /* флаги совместного отображения */\n",
    "    int fd,        /* файловый декскриптор файла */\n",
    "    off_t offset   /* смещение относительно начала файла. Должен быть выровнен! */\n",
    "  );\n",
    "\n",
    "int munmap(void *addr, size_t length) /* освободить отображение */\n",
    "```\n",
    "\n",
    "Системный вызов `mmap` предназначен для создания в виртуальном адресном пространстве процесса доступной области по определенному адресу. Эта область может быть как связана с определенным файлом (ранее открытым), так и располагаться в оперативной памяти. Второй способ использования обычно реализуется в функциях `malloc`/`calloc`.\n",
    "\n",
    "Память можно выделять только постранично. Для большинства архитектур размер одной страницы равен 4Кб, хотя процессоры архитектуры x86_64 поддерживают страницы большего размера: 2Мб и 1Гб.\n",
    "\n",
    "В общем случае, никогда нельзя полагаться на то, что размер страницы равен 4096 байт. Его можно узнать с помощью команды `getconf` или функции `sysconf`:\n",
    "\n",
    "```bash\n",
    "# Bash\n",
    "> getconf PAGE_SIZE\n",
    "4096\n",
    "```\n",
    "```c\n",
    "/* Си */\n",
    "#include <unistd.h>\n",
    "long page_size = sysconf(_SC_PAGE_SIZE);\n",
    "```\n",
    "\n",
    "Параметр `offset` (если используется файл) обязан быть кратным размеру страницы; параметр `length` - нет, но ядро системы округляет это значение до размера страницы в большую сторону. Параметр `addr` (рекомендуемый адрес) может быть равным `NULL`, - в этом случае ядро само назначает адрес в виртуальном адресном пространстве.\n",
    "\n",
    "При использовании отображения на файл, параметр `length` имеет значение длины отображаемых данных; в случае, если размер файла меньше размера страницы, или отображается его последний небольшой фрагмент, то оставшаяся часть страницы заполняется нулями.\n",
    "\n",
    "Страницы памяти могут флаги аттрибутов доступа:\n",
    " * чтение `PROT_READ`;\n",
    " * запись `PROT_WRITE`;\n",
    " * выполнение `PROT_EXE`;\n",
    " * ничего `PROT_NONE`.\n",
    "\n",
    "В случае использования отображения на файл, он должен быть открыт на чтение или запись в соответствии с требуемыми аттрибутами доступа.\n",
    "\n",
    "Флаги `mmap`:\n",
    " * `MAP_FIXED` - требует, чтобы память была выделена по указаному в первом аргументе адресу; без этого флага ядро может выбрать адрес, наиболее близкий к указанному.\n",
    " * `MAP_ANONYMOUS` - выделить страницы в оперативной памяти, а не связать с файлом.\n",
    " * `MAP_SHARED` - выделить страницы, разделяемые с другими процессами; в случае с отображением на файл - синхронизировать изменения так, чтобы они были доступны другим процессам.\n",
    " * `MAP_PRIVATE` - в противоположность `MAP_SHARED`, не делать отображение доступным другим процессам. В случае отображения на файл, он доступен для чтения, а созданные процессом изменения, в файл не сохраняются.\n",
    "\n",
    "\n"
   ]
  },
  {
   "cell_type": "code",
   "execution_count": 35,
   "id": "0ef23e42",
   "metadata": {},
   "outputs": [
    {
     "name": "stdout",
     "output_type": "stream",
     "text": [
      "Writing mmap_example.c\n"
     ]
    }
   ],
   "source": [
    "%%file mmap_example.c\n",
    "\n",
    "#include <stdio.h>\n",
    "#include <stdlib.h>\n",
    "#include <unistd.h>\n",
    "#include <sys/types.h>\n",
    "#include <sys/stat.h>\n",
    "#include <sys/mman.h>\n",
    "#include <fcntl.h>\n",
    "#include <assert.h>\n",
    "\n",
    "int get_page_size() {\n",
    "    static int page_size = 0;\n",
    "    return page_size = page_size ?: sysconf(_SC_PAGE_SIZE);\n",
    "}\n",
    "\n",
    "int upper_round_to_page_size(int sz) {\n",
    "    return (sz + get_page_size() - 1) / get_page_size() * get_page_size();\n",
    "}\n",
    "\n",
    "int main() {\n",
    "    printf(\"page size = %d\\n\", get_page_size());\n",
    "    int fd = open(\"buf.txt\", O_RDWR);\n",
    "    struct stat s;\n",
    "    assert(fstat(fd, &s) == 0);\n",
    "    \n",
    "    printf(\"file size = %d\\n\", (int)s.st_size);\n",
    "    int old_st_size = s.st_size;\n",
    "    if (s.st_size < 2) {\n",
    "        const int new_size = 10;\n",
    "        assert(ftruncate(fd, new_size) == 0); // изменяем размер файла\n",
    "        assert(fstat(fd, &s) == 0);\n",
    "        printf(\"new file size = %d\\n\", (int)s.st_size);\n",
    "    }\n",
    "    \n",
    "    void* mapped = mmap(\n",
    "        /* desired addr, addr = */ NULL, \n",
    "        /* length = */ s.st_size, \n",
    "        /* access attributes, prot = */ PROT_READ | PROT_WRITE,\n",
    "        /* flags = */ MAP_SHARED,\n",
    "        /* fd = */ fd,\n",
    "        /* offset in file, offset = */ 0\n",
    "    );\n",
    "    assert(mapped != MAP_FAILED);\n",
    "    assert(close(fd) == 0); // Не забываем закрывать файл\n",
    "    \n",
    "    char* buf = mapped;\n",
    "    \n",
    "    if (old_st_size != s.st_size) {\n",
    "        for (int j = old_st_size; j < s.st_size; ++j) {\n",
    "            buf[j] = '_';\n",
    "        }\n",
    "    }\n",
    "    \n",
    "    buf[1] = ('0' <= buf[1] && buf[1] <= '9') ? ((buf[1] - '0' + 1) % 10 + '0') : '0';\n",
    "    \n",
    "    assert(munmap(\n",
    "        /* mapped addr, addr = */ mapped, \n",
    "        /* length = */ s.st_size\n",
    "    ) == 0);\n",
    "    \n",
    "    return 0;\n",
    "}"
   ]
  },
  {
   "cell_type": "code",
   "execution_count": 37,
   "id": "df170ecb",
   "metadata": {},
   "outputs": [
    {
     "name": "stdout",
     "output_type": "stream",
     "text": [
      "page size = 4096\n",
      "file size = 5\n",
      "0100\n"
     ]
    }
   ],
   "source": [
    "%%bash\n",
    "gcc mmap_example.c -o mmap_example\n",
    "echo \"0000\" > buf.txt && ./mmap_example && cat buf.txt"
   ]
  },
  {
   "cell_type": "markdown",
   "id": "291b9c65",
   "metadata": {},
   "source": [
    "## Procfs\n",
    "`Procfs` (Process Filesystem) - виртуальная файловая система, которая используется процессами для того, чтобы хранить информацию о себе.\n",
    "\n",
    "Точка монтирования этой файловой системы - `/proc`.\n",
    "\n",
    "Посмотрим пару примеров ее использования.\n",
    "\n",
    "* `/proc/meminfo` - информация об используемой памяти\n",
    "* `/proc/modules` - информация о текущих модулях ядра\n",
    "* `/proc/devices` - зарегистрированные символьный и блочные устройства\n",
    "* `/proc/iomem` - физические адреса RAM и шин памяти\n",
    "* `/proc/swaps` - активные на текущий момент свопы\n",
    "* `/proc/filesystems` - активные драйвера файловых систем\n",
    "* `/proc/cpuinfo` - информация про CPU\n",
    "\n",
    "Узнать, что еще там лежит, можно с помощью `ls /proc`."
   ]
  },
  {
   "cell_type": "markdown",
   "id": "97e13eed",
   "metadata": {},
   "source": [
    "## Инструменты для отладки при работе с памятью\n",
    "При работе с памятью возникают разные проблемы: проезд по памяти, утечки памяти, UP, page fault (проезд по памяти, который приводит к тому, что мы обращаемся к странице, на которую не имеем прав).\n",
    "\n",
    "Для отладки программы в общем случае используем `gdb`.\n",
    "\n",
    "**Полезные санитайзеры**:\n",
    "* AddressSanitizer (`fsanitize=address`) - диагностирует ситуации утечек памяти, двойного освобождения памяти, выхода за границу стека или кучи, и использования указателей на стек после завершения работы функции.\n",
    "* MemorySanitizer (`-fsanitize=memory`) - диагностика ситуаций чтения неинициализированных данных. Требует, чтобы программа, и как и все используемые ею библиотеки, были скомпилированы в позиционно-независимый код.\n",
    "* UndefinedBehaviourSanitizer (`-fsanitize=undefined`) - диагностика неопределенного поведения в целочисленной арифметике: битовые сдвиги, знаковое переполнение, и т.д.\n",
    "\n",
    "Для работы с утечками памяти используем `valgrind`.\n",
    "\n",
    "Для отладки системных вызовов используется `strace`.\n",
    "\n",
    "Сегодня так же познакомились с профилировщиком `perf`."
   ]
  },
  {
   "cell_type": "markdown",
   "id": "656fd630",
   "metadata": {},
   "source": []
  }
 ],
 "metadata": {
  "kernelspec": {
   "display_name": "Python 3 (ipykernel)",
   "language": "python",
   "name": "python3"
  },
  "language_info": {
   "codemirror_mode": {
    "name": "ipython",
    "version": 3
   },
   "file_extension": ".py",
   "mimetype": "text/x-python",
   "name": "python",
   "nbconvert_exporter": "python",
   "pygments_lexer": "ipython3",
   "version": "3.9.7"
  }
 },
 "nbformat": 4,
 "nbformat_minor": 5
}
