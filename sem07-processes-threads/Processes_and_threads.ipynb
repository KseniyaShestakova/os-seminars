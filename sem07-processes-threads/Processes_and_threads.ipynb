{
 "cells": [
  {
   "cell_type": "markdown",
   "id": "de90b424",
   "metadata": {},
   "source": [
    "# Процессы и потоки\n",
    "\n",
    "\n",
    "## Процессы\n",
    "У каждого процесса существует свои обособленные:\n",
    " * адресное пространство начиная с `0x00000000`;\n",
    " * набор файловых дескрипторов для открытых файлов.\n",
    "\n",
    "Кроме того, каждый процесс может находиться в одном из состояний:\n",
    " * работает (Running);\n",
    " * приостановлен до возникновения определенного события (Suspended);\n",
    " * приостановлен до явного сигнала о том, что нужно продолжить работу (sTopped);\n",
    " * более не функционирует, не занимает память, но при этом не удален из таблицы процессов (Zombie).\n",
    "\n",
    "Каждый процесс имеет свой уникальный идентификатор - Process ID (PID), который присваивается системой инкрементально. Множество доступных PID является ограниченным, и его исчерпание проводит к невозможности создания нового процесса.\n",
    "\n",
    "\n",
    "**Работа с процессами из терминала:**\n",
    "* Получить полный список процессов: `ps -A`, `ps aux`. \n",
    "* Убить процесс: `kill <signal> <pid>`. Обычно вместо `<signal>` пишем `-9`, т.е. посылаем сигнал `SIGKILL`\n",
    "\n"
   ]
  },
  {
   "cell_type": "code",
   "execution_count": 8,
   "id": "aa0f1387",
   "metadata": {},
   "outputs": [
    {
     "name": "stdout",
     "output_type": "stream",
     "text": [
      "USER         PID %CPU %MEM    VSZ   RSS TTY      STAT START   TIME COMMAND\n",
      "root           1  0.0  0.1 164920 11144 ?        Ss   11:37   0:01 /sbin/init splash\n",
      "root           2  0.0  0.0      0     0 ?        S    11:37   0:00 [kthreadd]\n",
      "root           3  0.0  0.0      0     0 ?        I<   11:37   0:00 [rcu_gp]\n",
      "root           4  0.0  0.0      0     0 ?        I<   11:37   0:00 [rcu_par_gp]\n"
     ]
    }
   ],
   "source": [
    "%%bash\n",
    "ps aux | head -n 5"
   ]
  },
  {
   "cell_type": "code",
   "execution_count": 6,
   "id": "8da6a85c",
   "metadata": {},
   "outputs": [
    {
     "name": "stdout",
     "output_type": "stream",
     "text": [
      "root        6251  0.0  0.0      0     0 ?        I    12:16   0:00 [kworker/5:1-events]\n",
      "root        6272  0.0  0.0      0     0 ?        I    12:17   0:00 [kworker/u16:2-ext4-rsv-conversion]\n",
      "xxeniash    6273  0.0  0.0   9940  3344 ?        S    12:17   0:00 bash\n",
      "xxeniash    6275  0.0  0.0  12792  3772 ?        R    12:17   0:00 ps aux\n",
      "xxeniash    6276  0.0  0.0   8400   980 ?        S    12:17   0:00 tail -n 5\n"
     ]
    }
   ],
   "source": [
    "%%bash\n",
    "ps aux | tail -n 5"
   ]
  },
  {
   "cell_type": "markdown",
   "id": "13501969",
   "metadata": {},
   "source": [
    "Процессы иерархичны. Существует процесс `init` с `PID=1`, он порождает дочерние процессы, которые в свою очередь тоже порождают какие-то процессы и т.д.\n",
    "\n",
    "Процессы объединяются в `process group`, которым доставляются сигналы о наступленнии некоторых событий. Пример: процессы, запущенные из одного терминала (призакрытии терминала они будут убиты).\n",
    "\n",
    "Объединение нескольких групп процессов называется *сеансом* (`session`). Как правило, в один сеанс объединяются процессы в рамках одного входа пользователя в систему."
   ]
  },
  {
   "cell_type": "markdown",
   "id": "69d4e3aa",
   "metadata": {},
   "source": [
    "### Системный вызов Fork\n",
    "\n",
    "Предназначен для создания новых процессов.\n",
    "\n",
    "```c\n",
    "#include <unistd.h>\n",
    "\n",
    "pid_t fork();\n",
    "\n",
    "```\n",
    "\n",
    "По возвращаемому значению можно отличить родительский и дочерний процессы:\n",
    "\n",
    "```cpp\n",
    "pid_t process_id; // в большинстве систем pid_t совпадает с int\n",
    "if ( -1 == ( process_id=fork() ) ) {\n",
    "  perror(\"fork\"); // ошибка создания нового процесса\n",
    "}\n",
    "else if ( 0 == process_id ) {\n",
    "  printf(\"I'm a child process!\");\n",
    "}\n",
    "else {\n",
    "  printf(\"I'm a parent process, created child %d\", process_id);\n",
    "}\n",
    "```\n",
    "\n",
    "Может быть использован для создания fork-бомбы - программы, которая занимается тем, что исчерпывает лимит запущенных процессов:\n",
    "\n",
    "```cpp\n",
    "#include <stdio.h>\n",
    "#include <sys/types.h>\n",
    "#include <unistd.h>\n",
    "#include <stdlib.h>\n",
    "#include <string.h>\n",
    "#include <sched.h>\n",
    "\n",
    "int main()\n",
    "{\n",
    "    char * are_you_sure = getenv(\"ALLOW_FORK_BOMB\");\n",
    "    if (!are_you_sure || 0!=strcmp(are_you_sure, \"yes\")) {\n",
    "        fprintf(stderr, \"Fork bomb not allowed!\\n\");\n",
    "        exit(127);\n",
    "    }\n",
    "\n",
    "    pid_t pid;\n",
    "    do {\n",
    "        pid = fork();\n",
    "    } while (-1 != pid);\n",
    "\n",
    "    printf(\"Process %d reached out limit on processes\\n\", getpid());\n",
    "    while (1) {\n",
    "        sched_yield();\n",
    "    }\n",
    "}\n",
    "```\n",
    "\n",
    "Для того, чтобы безопасно протестировать fork-бомбу, рекомендуется создать нового пользователя и установить ему лимит на число запущенных потоков/процессов:\n",
    "\n",
    "```bash\n",
    "sudo useradd tmp_user # создаем пользователя\n",
    "sudo passwd tmp_user  # устанавливаем пароль\n",
    "su tmp_user           # логинимся под пользователя в этом окне терминала\n",
    "ulimit -u 100         # ограничиваем число потоков/процессов доступное пользователю\n",
    "./inf09_0.exe         # запускаем опасную программу\n",
    "```"
   ]
  },
  {
   "cell_type": "markdown",
   "id": "384ab92e",
   "metadata": {},
   "source": [
    "### Чтение кода возврата дочернего процесса\n",
    " * `wait(int *wstatus)` - ожидание завершения любого дочернего процесса, возвращает информацию о завершении работы;\n",
    " * `waitpid(pid_t pid, int *wstatus, int options)` - ожидание (возможно неблокирующее) завершения работы конкретного процесса, возвращает информации о завершении работы;\n",
    " * `wait3(int *wstatus, int options, struct rusage *rusage)` - ожидание (возможно неблокирующее) завершения любого дочернего процесса, возвращает информацию о завершении работы и статистике использования ресурсов;\n",
    " * `wait4(pid_t pid, int *wstatus, int options, struct rusage *rusage)` - ожидание (возможно неблокирующее) завершения конкретного процесса, возвращает информацию о завершении работы и статистике использования ресурсов.\n",
    "\n",
    "### Системный вызов exec\n",
    "\n",
    "Предназначен для замены программы текущего процесса. Чаще всего используется с `fork` для того, чтобы запустить из текущей программы некоторую стороннюю (например, скрипт на python или bash).\n",
    "\n",
    "```cpp\n",
    "int execve(const char *filename,\n",
    "           char *const argv[],\n",
    "           char *const envp[]);           \n",
    "int execvpe(.....) // параметры аналогично execve\n",
    "\n",
    "int execv(const char *filename, char *const argv[])\n",
    "int execvp(......) // параметры аналогично execv\n",
    "\n",
    "int execle(const char *filename,\n",
    "           const char arg0, ..., /* NULL */,\n",
    "           const char env0, ..., /* NULL */);\n",
    "\n",
    "int execl(const char *filename,\n",
    "          const char arg0, ..., /* NULL */);\n",
    "int execlp(......) // параметры аналогично execl\n",
    "\n",
    "```\n",
    "\n",
    "Различные буквы в суффиксах названий `exec` означают?\n",
    " * `v` или `l` - параметры передаются в виде массивов (`v`), заканчивающихся элементом `NULL`, либо в виде переменного количества аргументов (`l`), где признаком конца перечисления аргументов является значение `NULL`.\n",
    " * `e` - кроме аргументов программы передаются переменные окружения в виде строк `КЛЮЧ=ЗНАЧЕНИЕ`.\n",
    " * `p` - именем программы может быть не только имя файла, но и имя, которое нужно найти в одном из каталогов, перечисленных в переменной окружения `PATH`.\n",
    "\n",
    "Возвращаемым значением `exec` может быть только значение `-1` (признак ошибки). В случае успеха, возвращаемое значение уже в принципе не имеет никакого смысла, поскольку будет выполняться другая программа.\n",
    "\n",
    "Аргументы программы - это то, что передаётся в функцию `main` (на самом деле, они доступны из `_start`, поскольку располагаются на стеке). Первым аргументом (с индексом `0`), как правило, является имя программы, но это не является обязательным требованием.\n",
    "\n",
    "\n",
    "Классическое использование:\n",
    "```cpp\n",
    "if (0 == fork()) { // создали дочерний процесс, из него запускам program\n",
    "  execlp(program, program, NULL);\n",
    "  perror(\"exec\"); exit(1);\n",
    "}\n",
    "```"
   ]
  },
  {
   "cell_type": "code",
   "execution_count": 13,
   "id": "7c290abc",
   "metadata": {},
   "outputs": [
    {
     "name": "stdout",
     "output_type": "stream",
     "text": [
      "Overwriting fork_exec.c\n"
     ]
    }
   ],
   "source": [
    "%%file fork_exec.c\n",
    "\n",
    "#include <stdio.h>\n",
    "#include <stdlib.h>\n",
    "#include <unistd.h>\n",
    "#include <assert.h>\n",
    "#include <sys/resource.h>\n",
    "#include <sys/types.h>\n",
    "#include <sys/wait.h>\n",
    "\n",
    "\n",
    "int main() {\n",
    "    pid_t pid;\n",
    "    if ((pid = fork()) == 0) {\n",
    "        // execlp(\"ps\", \"ps\", \"aux\", NULL); // also possible variant\n",
    "        execlp(\"echo\", \"echo\", \"Hello world from linux ECHO program\", NULL);\n",
    "        // execlp(\"sleep\", \"sleep\", \"3\", NULL);\n",
    "        // execlp(\"bash\", \"bash\", \"-c\", \"ps aux | head -n 4\", NULL);\n",
    "        assert(0 && \"Unreachable position in code if execlp succeeded\");\n",
    "    }\n",
    "    int status;\n",
    "    struct rusage resource_usage;\n",
    "    pid_t w = wait4(pid, &status, 0, &resource_usage); // обязательно нужно дождаться, пока завершится дочерний процесс\n",
    "    if (w == -1) {\n",
    "        perror(\"waitpid\");\n",
    "        exit(-1);\n",
    "    }\n",
    "    assert(WIFEXITED(status));\n",
    "    printf(\"Child exited with code %d \\n\"\n",
    "           \"\\tUser time %ld sec %ld usec\\n\"\n",
    "           \"\\tSys time %ld sec %ld usec\\n\", \n",
    "           WEXITSTATUS(status), \n",
    "           resource_usage.ru_utime.tv_sec,\n",
    "           resource_usage.ru_utime.tv_usec,\n",
    "           resource_usage.ru_stime.tv_sec,\n",
    "           resource_usage.ru_stime.tv_usec); // выводим код возврата дочернего процесса + еще полезную информацию\n",
    "    \n",
    "    return 0;\n",
    "}"
   ]
  },
  {
   "cell_type": "code",
   "execution_count": 14,
   "id": "2f44617e",
   "metadata": {},
   "outputs": [
    {
     "name": "stdout",
     "output_type": "stream",
     "text": [
      "Hello world from linux ECHO program\n",
      "Child exited with code 0 \n",
      "\tUser time 0 sec 368 usec\n",
      "\tSys time 0 sec 0 usec\n"
     ]
    }
   ],
   "source": [
    "%%bash \n",
    "gcc fork_exec.c -o fork_exec\n",
    "./fork_exec"
   ]
  },
  {
   "cell_type": "markdown",
   "id": "15f34d3a",
   "metadata": {},
   "source": [
    "## Потоки\n",
    "\n",
    "Поток - единица планирования времени в рамках одного процесса. Чтобы понять, чем процессы отличаются от потоков, посмотрим на их атрибуты.\n",
    "\n",
    "**Атрибуты процесса:**\n",
    "* виртуальное адресное пространство и данные в нем\n",
    "* файловые дескрипторы и блокировки файлов\n",
    "* PID\n",
    "* argc, argv\n",
    "* ulimit\n",
    "\n",
    "**Атрибуты потоков:**\n",
    "* маски сигналов\n",
    "* состояние процесса R, S, T, Z\n",
    "* состояние регистров (какая функция сейчас выполняется)\n",
    "* TID\n",
    "\n",
    "Все потоки в рамках одного процесса разделяют общее адресное пространство и открытые файловые дескрипторы.\n",
    "\n",
    "Для каждого потока предусмотрен свой отдельный стек фиксированного размера, который располагается в общем адресном пространстве.\n",
    "\n",
    "Есть функции, с помощью которых можно задавать опеределенные параметры создаваемого потока:\n",
    " * `pthread_attr_setstacksize` - установить размер стека для потока. Размер стека должен быть кратен размеру страницы памяти (обычно 4096 байт), и для него определен минимальный размер, определяемый из параметров системы `sysconf(_SC_THREAD_STACK_MIN)` или константой `PTHREAD_STACK_MIN` из `<limits.h>` (в Linux это 16384 байт);\n",
    " * `pthread_attr_setstackaddr` - указать явным образом адрес размещения памяти, которая будет использована для стека;\n",
    " * `pthread_attr_setguardsize` - установить размер защитной области после стека (Guard Page). По умолчанию в Linux этот размер равен размеру страницы памяти, но можно явно указать значение 0.\n",
    " \n",
    "### Функции для работы с потоками\n",
    "\n",
    "Создание и запуск нового потока:\n",
    "```cpp\n",
    "#include <pthread.h>\n",
    "\n",
    "int pthread_create(/* указатель на результат */\n",
    "                   pthread_t *restrict thread, \n",
    "                   /* атрибуты (может быть NULL) */\n",
    "                  const pthread_attr_t *attr,\n",
    "                   /* функция, которую будет выполнять поток */\n",
    "                  void *(*start_routine)(void *),\n",
    "                  /* аргументы функции */\n",
    "                  void *restrict arg);\n",
    "```\n",
    "\n",
    "\n",
    "Ключевое слово `restrict` означает, что указатель, перед которым оно указано, - единственный указатель, по которому будет изменяться соответствующий участок памяти.\n",
    "\n",
    "Поток завершается в тот момент, в который завершается выполнение функции, либо пока не будет вызван аналог `exit` для потока - функция `pthread_exit`.\n",
    "\n",
    "Возвращаемые значения размером больше одного машинного слова, которые являются результатом работы потока, не могут быть размещены в стеке, поскольку стек будет уничтожен при завершении работы функции.\n",
    "\n",
    "```cpp\n",
    "int pthread_join(\n",
    "    // поток, который нужно ждать\n",
    "    pthread_t thread,\n",
    "\n",
    "    // указатель на результат работы функции,\n",
    "    // либо NULL, если он не интересен\n",
    "    (void*) *retval\n",
    "    );\n",
    "```\n",
    "Функция `pthread_join` ожидает завершения работы определенного потока, и получает результат работы функции.\n",
    "\n",
    "\n",
    "Если два потока вызовут ожидание друг друга, то произойдет deadlock (и программа зависнет).\n",
    "\n",
    "Функция `pthread_cancel` принудительно завершает работу потока, если поток явно это не запретил с помощью функции `pthread_setcancelstate`.\n",
    "\n",
    "```cpp\n",
    "int pthread_cancel(\n",
    "    // поток, который нужно прибить\n",
    "    pthread_t thread\n",
    "    );\n",
    "```\n",
    "\n",
    "Результатом работы функции, который будет передан в `pthread_join` будет специальное значение `PTHREAD_CANCELED`."
   ]
  },
  {
   "cell_type": "code",
   "execution_count": 15,
   "id": "3ae070b9",
   "metadata": {},
   "outputs": [
    {
     "name": "stdout",
     "output_type": "stream",
     "text": [
      "Writing recursive_read.c\n"
     ]
    }
   ],
   "source": [
    "%%file recursive_read.c\n",
    "\n",
    "#include <pthread.h>\n",
    "#include <stdint.h>\n",
    "#include <stdio.h>\n",
    " \n",
    "void* start_routine(void* arg)\n",
    "{\n",
    "     int32_t curr;\n",
    "     if (scanf(\"%d\", &curr) == EOF) {\n",
    "         return NULL;\n",
    "     }\n",
    "     pthread_t next;\n",
    "     pthread_create(&next, NULL, &start_routine, NULL);\n",
    "     pthread_join(next, NULL);\n",
    "     printf(\"%d \", curr);\n",
    "     return NULL;\n",
    "}\n",
    "\n",
    "int main()\n",
    "{\n",
    "     pthread_t init;\n",
    "     pthread_create(&init, NULL, &start_routine, NULL);\n",
    "     pthread_join(init, NULL);\n",
    "     return 0;\n",
    "}"
   ]
  },
  {
   "cell_type": "code",
   "execution_count": 17,
   "id": "fd36b221",
   "metadata": {},
   "outputs": [
    {
     "name": "stdout",
     "output_type": "stream",
     "text": [
      "3 2 2 1 "
     ]
    }
   ],
   "source": [
    "%%bash\n",
    "gcc recursive_read.c -o recursive_read\n",
    "cat input.txt | ./recursive_read"
   ]
  },
  {
   "cell_type": "markdown",
   "id": "58837081",
   "metadata": {},
   "source": [
    "## Работа с исполняемыми файлами в Linux\n",
    "\n",
    "**ELF (Executable and Linkable Format)** - стандартный формат для исполняемых файлов в Unix-системах.\n",
    "\n",
    "Секции ELF-файла:\n",
    "* ELF header\n",
    "* Program header table (описывает executable/writeable/readable сегменты)\n",
    "* Section header table\n",
    "* Данные, на которые ссылаются сущности из program header table и section header table, например, `.text`, `.rodata`, `.data`\n",
    "\n",
    "Попробуем поразбираться с файлом `recursive_read`, полученным на предыдущем шаге. Сначала проверим, что он имеет формат ELF, прочитав его заголовок с помощью `objdump`."
   ]
  },
  {
   "cell_type": "code",
   "execution_count": 20,
   "id": "c3acfcb3",
   "metadata": {},
   "outputs": [
    {
     "name": "stdout",
     "output_type": "stream",
     "text": [
      "\n",
      "recursive_read:     file format elf64-x86-64\n",
      "architecture: i386:x86-64, flags 0x00000150:\n",
      "HAS_SYMS, DYNAMIC, D_PAGED\n",
      "start address 0x00000000000010e0\n",
      "\n"
     ]
    }
   ],
   "source": [
    "%%bash\n",
    "objdump -f recursive_read"
   ]
  },
  {
   "cell_type": "markdown",
   "id": "3b273a17",
   "metadata": {},
   "source": [
    "Для чтения ELF-файлов можно использовать утилиты `objdump` и `readelf`. Подробнее про то, какие они принимают опции, можно узнать в `man`-е. Сейчас разберем несколько примеров.\n",
    "\n",
    "* `readelf -a` - вся информация (`--all`)\n",
    "* `readelf -l` - информация о program headers (`--program-headers | --segments`)\n",
    "* `readelf -S` - информация о section headers (`--section headers } --sections`)\n",
    "* `readelf -s` - информация о символах (в частности, в случае с recursive_read увидим информацию о `strat_routine`, `pthread_join`, `_init`)"
   ]
  },
  {
   "cell_type": "code",
   "execution_count": null,
   "id": "4129b090",
   "metadata": {},
   "outputs": [],
   "source": []
  }
 ],
 "metadata": {
  "kernelspec": {
   "display_name": "Python 3 (ipykernel)",
   "language": "python",
   "name": "python3"
  },
  "language_info": {
   "codemirror_mode": {
    "name": "ipython",
    "version": 3
   },
   "file_extension": ".py",
   "mimetype": "text/x-python",
   "name": "python",
   "nbconvert_exporter": "python",
   "pygments_lexer": "ipython3",
   "version": "3.9.7"
  }
 },
 "nbformat": 4,
 "nbformat_minor": 5
}
