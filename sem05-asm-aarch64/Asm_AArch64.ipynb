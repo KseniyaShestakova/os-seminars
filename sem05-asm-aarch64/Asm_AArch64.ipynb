{
 "cells": [
  {
   "cell_type": "markdown",
   "id": "a23850a2",
   "metadata": {},
   "source": [
    "# Assembler AArch64\n",
    "\n",
    "Посмотрим, чем отличается AArch64 от x86. AArch64 - RISC архитектура, x86 - CISC. Подробнее - в слайдах лекции!"
   ]
  },
  {
   "attachments": {},
   "cell_type": "markdown",
   "id": "f4d59b0d",
   "metadata": {},
   "source": [
    "![alt text](image.jpg \"Title\")"
   ]
  },
  {
   "cell_type": "markdown",
   "id": "e246593d",
   "metadata": {},
   "source": [
    "## <a name=\"install_instr\"></a> Установка инструментов\n",
    "1) Устанавливаем компилятор:\n",
    "```\n",
    " sudo apt update && sudo apt upgrade\n",
    " sudo apt --fix-broken install\n",
    " sudo apt-get install gcc-aarch64-linux-gnu\n",
    "  \n",
    "```\n",
    "2) Устанавливаем эмулятор\n",
    "```\n",
    "sudo apt-get install qemu-system-arm\n",
    "sudo apt-get install qemu-efi-aarch64\n",
    "sudo apt-get install qemu-utils\n",
    "sudo apt install qemu-user\n",
    "```\n",
    "\n",
    "## <a name=\"compile_run\"></a> Компиляция и запуск\n",
    "1) Примеры компиляции:\n",
    "* `aarch64-linux-gnu-gcc main.c -o programme.exe`\n",
    "* `aarch64-linux-gnu-gcc main.S -o programme.exe`\n",
    "* `aarch64-linux-gnu-gcc main.c lib.S -o programme.exe`\n",
    "* `aarch64-linux-gnu-gcc -S -O3 lib.c -o lib.S`\n",
    "\n",
    "2) Запуск:\n",
    "```\n",
    "qemu-aarch64 -L /usr/aarch64-linux-gnu ./programme.exe\n",
    "```\n",
    "Чтобы не прописывать каждый раз `-L /usr/aarch64-linux-gnu`, можно установить переменную окружения:\n",
    "```\n",
    "export QEMU_LD_PREFIX=/usr/aarch64-linux-gnu\n",
    "qemu-aarch64 ./programme.exe\n",
    "```"
   ]
  },
  {
   "cell_type": "markdown",
   "id": "4a64bbc2",
   "metadata": {},
   "source": [
    "**Самое основное**:\n",
    "* Есть регистры и есть память\n",
    "* Стек тоже память и он растет вниз\n",
    "* Есть инструкции для операций с регистрами `ADD`, `MUL`, `CMP`, ...\n",
    "* Есть инструкции условных и безусловных переходов (на самом деле те же операции с регистрами). `B`, `BL`, `BX`, `BGT`...\n",
    "* Есть инструкции, для взаимодействия с памятью `LDR`, `STR`\n",
    "\n",
    "## Регистры\n",
    "Названия регистров:\n",
    "* `r0-r30` - общее обращение к регистрам\n",
    "* `x0-x30` - обращение к 64-битным регистрам (те же регистры, что и `r0-r30`)\n",
    "* `w0-w30` - обращение к 32-битной половине регистра\n",
    "\n",
    "## Основное из Calling Conventions\n",
    "* Первые 4 аргумента функции принимаются через `r0`..`r3`, остальные через стек\n",
    "* После вызова функции (вашей или не вашей) значения `r4`-`r8`, `r10`, `r11` не должны изменяться. (Функция может их использовать, но обязана восстановить прежние значения) \n",
    "* `r9`, `r12`-`r15` имеют специальное значение, проще их не использовать\n",
    "* `pc` - в этом регистре хранится адрес текущей инструкции, его изменение - то же самое, что безусловный переход\n",
    "* `sp` - указатель на стек\n",
    "* `lr` - адрес возврата\n",
    "\n",
    "## Инструкции\n",
    "Полный перечень 32-битных команд см. в [этом reference](https://github.com/victor-yacovlev/fpmi-caos/blob/master/practice/asm/arm_basics/arm_reference.pdf), начиная со 151 страницы.\n",
    "\n",
    "Архитектура ARM-32 подразумевает, что почти все команды могут иметь *условное выполнение*. Условие кодируется 4-мя битами в самой команде, а с точки зрения синтаксиса ассемблера у команд могут быть суффиксы.\n",
    "\n",
    "Таким образом, каждая команда состоит из двух частей (без разделения пробелами): сама команда и её суффикс.\n",
    "\n",
    "### Базовые арифметические операции\n",
    "\n",
    "* `AND regd, rega, argb`  // regd ← rega & argb\n",
    "* `EOR regd, rega, argb`  // regd ← rega ^ argb\n",
    "* `SUB regd, rega, argb`  // regd ← rega − argb\n",
    "* `RSB regd, rega, argb`  // regd ← argb - rega\n",
    "* `ADD regd, rega, argb`  // regd ← rega + argb\n",
    "* `ADC regd, rega, argb`  // regd ← rega + argb + carry\n",
    "* `SBC regd, rega, argb`  // regd ← rega − argb − !carry\n",
    "* `RSC regd, rega, argb`  // regd ← argb − rega − !carry\n",
    "* `TST rega, argb`        // set flags for rega & argb\n",
    "* `TEQ rega, argb`        // set flags for rega ^ argb\n",
    "* `CMP rega, argb`        // set flags for rega − argb\n",
    "* `CMN rega, argb`        // set flags for rega + argb\n",
    "* `ORR regd, rega, argb`  // regd ← rega | argb\n",
    "* `MOV regd, arg`         // regd ← arg\n",
    "* `BIC regd, rega, argb`  // regd ← rega & ~argb\n",
    "* `MVN regd, arg`         // regd ← ~argb\n",
    "\n",
    "### Суффиксы-условия\n",
    "\n",
    "```\n",
    "EQ        equal  (Z)\n",
    "NE        not equal  (!Z)\n",
    "CS or HS  carry set / unsigned higher or same  (C)\n",
    "CC or LO  carry clear / unsigned lower  (!C)\n",
    "MI        minus / negative  (N)\n",
    "PL        plus / positive or zero  (!N)\n",
    "VS        overflow set  (V)\n",
    "VC        overflow clear  (!V)\n",
    "HI        unsigned higher  (C && !Z)\n",
    "LS        unsigned lower or same  (!C || Z)\n",
    "GE        signed greater than or equal  (N == V)\n",
    "LT        signed less than  (N != V)\n",
    "GT        signed greater than  (!Z && (N == V))\n",
    "LE        signed less than or equal  (Z || (N != V))\n",
    "```\n",
    "\n",
    "### Переходы\n",
    "\n",
    "Счетчик `pc` автоматически увеличивается на 4 при выполнении\n",
    "очередной инструкции. Для ветвления программ изпользуются команды:\n",
    "\n",
    " * `B label` - переход на метку; используется внутри функций для ветвлений, связанных с циклами или условиями\n",
    " * `BL label` - сохранение текущего `pc` в `lr` и переход на `label`; обычно используется для вызова функций\n",
    " * `BX register` - переход к адресу, указанному в регистре; обычно используется для выхода из функций.\n",
    "\n",
    "### Работа с памятью\n",
    "\n",
    "Процессор может выполнять операции только над регистрами. Для взаимодействия с памятью используются отдельные инструкции загрузки/сохранения регистров.\n",
    "\n",
    "* `LDR regd, [regaddr]` - загружает машинное слово из памяти по адресу, хранящимся в regaddr, и сохраняет его в регистре regd\n",
    "* `STR reds, [regaddr]` - сохраняет в памяти машинное слово из регистра regs по адресу, указанному в регистре regaddr.\n",
    "\n",
    "### Полезные фишки (но только для ARM32)\n",
    "\n",
    "`cmp r0, #'9'` - так можно писать char-константы\n",
    "\n",
    "`push {r4, r5, r6, r7, r8, lr}` <-> `push {r4-r8, lr}`\n",
    "\n",
    "\n",
    "`str r0, [r1, #4]! (C-style: *(r1 += 4) = r0)` - то же самое, что и `str r0, [r1, #4] (C-style: *(r1 + 4) = r0)`, но в `r1`, будет сохранено `r1 + #4` после выполнения команды. Другими словами префиксный инкремент на 4.\n",
    "\n",
    "`ldr r0, [r1], #4` - то же самое, что и `ldr r0, [r1] (C-style: r0 = *r1)` с последующим `add r1, r1, #4 (C-style: r1 += 4)`. Другими словами постфиксный инкремент.\n",
    "\n",
    "В ARM64 нет инструкций `push` и `pop` : [почитать](https://stackoverflow.com/questions/78404268/how-to-use-stack-in-arm64-assembly)\n",
    "\n"
   ]
  },
  {
   "cell_type": "markdown",
   "id": "9ca324f2",
   "metadata": {},
   "source": [
    "## Пример с дисассемблером и сравнениями"
   ]
  },
  {
   "cell_type": "code",
   "execution_count": 3,
   "id": "cf90cdf1",
   "metadata": {},
   "outputs": [
    {
     "name": "stdout",
     "output_type": "stream",
     "text": [
      "long long func(long long x, long long y) {\n",
      "    if (x < y) {\n",
      "        return y + 7;\n",
      "    }\n",
      "    if (x == y + 1) {\n",
      "        return 21;\n",
      "    }\n",
      "    return x + y;\n",
      "}\n"
     ]
    }
   ],
   "source": [
    "%%bash\n",
    "cat compare.c"
   ]
  },
  {
   "cell_type": "code",
   "execution_count": 5,
   "id": "c11b048b",
   "metadata": {},
   "outputs": [],
   "source": [
    "%%bash\n",
    "aarch64-linux-gnu-gcc -S -Os compare.c -o compare.S"
   ]
  },
  {
   "cell_type": "markdown",
   "id": "0187ac16",
   "metadata": {},
   "source": [
    "Код из `compare.S` с комментариями:\n",
    "```\n",
    "\t.arch armv8-a\n",
    "\t.file\t\"compare.c\"\n",
    "\t.text\n",
    "\t.align\t2\n",
    "\t.global\tfunc\n",
    "\t.type\tfunc, %function\n",
    "func:\n",
    ".LFB0:\n",
    "\t.cfi_startproc\n",
    "\tcmp\tx0, x1       \\\\ сравниваем x и y\n",
    "\tbge\t.L2          \\\\ если x >= y, то прыгаем на метку .L2\n",
    "\tadd\tx0, x1, 7    \\\\ если x < y, то складываем в x0 значение y+7\n",
    ".L1:\n",
    "\tret\n",
    ".L2:\n",
    "\tadd\tx2, x1, 1         \\\\ кладем в x2 значение y+1\n",
    "\tadd\tx1, x0, x1        \\\\ кладем в x1 значение x+y\n",
    "\tcmp\tx2, x0            \\\\ сравниваем x и y\n",
    "\tmov\tx0, 21            \\\\ складываем в x0 значение 21\n",
    "\tcsel\tx0, x1, x0, ne   \\\\ x0 = ne ? x1 : x0 (conditional select)\n",
    "\tb\t.L1                 \\\\ вместо этого можно было бы написать ret\n",
    "\t.cfi_endproc\n",
    ".LFE0:\n",
    "\t.size\tfunc, .-func\n",
    "\t.ident\t\"GCC: (Ubuntu 11.2.0-5ubuntu1) 11.2.0\"\n",
    "\t.section\t.note.GNU-stack,\"\",@progbits\n",
    "\n",
    "```"
   ]
  },
  {
   "cell_type": "markdown",
   "id": "b9414477",
   "metadata": {},
   "source": [
    "## Пример с указателями и памятью"
   ]
  },
  {
   "cell_type": "code",
   "execution_count": 6,
   "id": "bb1f2ec0",
   "metadata": {},
   "outputs": [
    {
     "name": "stdout",
     "output_type": "stream",
     "text": [
      "#include <inttypes.h>\n",
      "\n",
      "char compare_and_exchange(int64_t* contained, int64_t* expected, int64_t value) {\n",
      "    if (*contained == *expected) {\n",
      "        *contained = value;\n",
      "        return 1;\n",
      "    }\n",
      "    *expected = *contained;\n",
      "    return 0;\n",
      "}\n"
     ]
    }
   ],
   "source": [
    "%%bash\n",
    "cat pointer.c"
   ]
  },
  {
   "cell_type": "code",
   "execution_count": 8,
   "id": "1d300ce1",
   "metadata": {},
   "outputs": [],
   "source": [
    "%%bash\n",
    "aarch64-linux-gnu-gcc -S -Os pointer.c -o pointer.S"
   ]
  },
  {
   "cell_type": "markdown",
   "id": "61a71b3d",
   "metadata": {},
   "source": [
    "Разбор того, что делает код `pointer.S`:\n",
    "\n",
    "```\n",
    "\t.arch armv8-a\n",
    "\t.file\t\"pointer.c\"\n",
    "\t.text\n",
    "\t.align\t2\n",
    "\t.global\tcompare_and_exchange\n",
    "\t.type\tcompare_and_exchange, %function\n",
    "compare_and_exchange:\n",
    ".LFB0:\n",
    "\t.cfi_startproc\n",
    "\tldr\tx3, [x0]  // x3 = *(contained)\n",
    "\tldr\tx4, [x1]  // x4 = *(expected)\n",
    "\tcmp\tx3, x4    // сравниваем *contained и *expected\n",
    "\tbne\t.L2       // если не равны, то прыгаем на .L2\n",
    "\tstr\tx2, [x0]  // *(contained) = value\n",
    "\tmov\tw0, 1     // w0 = 1\n",
    ".L3:\n",
    "\tret\n",
    ".L2:\n",
    "\tmov\tw0, 0      // w0 = 0\n",
    "\tstr\tx3, [x1]   // *expected = *contained\n",
    "\tb\t.L3          // вместо этого можно было написать ret\n",
    "\t.cfi_endproc\n",
    ".LFE0:\n",
    "\t.size\tcompare_and_exchange, .-compare_and_exchange\n",
    "\t.ident\t\"GCC: (Ubuntu 11.2.0-5ubuntu1) 11.2.0\"\n",
    "\t.section\t.note.GNU-stack,\"\",@progbits\n",
    "```"
   ]
  },
  {
   "cell_type": "markdown",
   "id": "be82dde0",
   "metadata": {},
   "source": [
    "## Пример с вызовом функции\n",
    "Напишем на ассемблере реализацию следующей функции:"
   ]
  },
  {
   "cell_type": "code",
   "execution_count": 10,
   "id": "748fe48d",
   "metadata": {},
   "outputs": [
    {
     "name": "stdout",
     "output_type": "stream",
     "text": [
      "Overwriting func_call.c\n"
     ]
    }
   ],
   "source": [
    "%%file func_call.c\n",
    "\n",
    "#include <inttypes.h>\n",
    "#include <stdio.h>\n",
    "\n",
    "int64_t get_int64() {\n",
    "    int64_t var = 0;\n",
    "    scanf(\"%ld\", &var);\n",
    "    return var;\n",
    "}"
   ]
  },
  {
   "cell_type": "code",
   "execution_count": 13,
   "id": "e3291ace",
   "metadata": {},
   "outputs": [
    {
     "name": "stdout",
     "output_type": "stream",
     "text": [
      "Overwriting func_call.S\n"
     ]
    }
   ],
   "source": [
    "%%file func_call.S\n",
    "\n",
    "    .text\n",
    "    .global get        // делаем функцию get глобальной\n",
    "    \n",
    "get:\n",
    "    sub sp, sp, 16     // sp -= 16, аллоцируем 16 байт на стеке\n",
    "    \n",
    "    str lr, [sp, 8]    // сохраняем адсрес возврата по адресу sp+8\n",
    "    \n",
    "    adr x0, format_str // сохраняем адрес format_str в x0\n",
    "    \n",
    "    mov x1, sp         // x1 = sp - адрес int64_t для записи прочитанного в scanf\n",
    "\n",
    "    bl scanf           // вызов scanf\n",
    "    \n",
    "    ldr x0, [sp]       // загружаем прочитанное значение в x0\n",
    "    \n",
    "    ldr lr, [sp, 8]    // восстанавливаем значение lr\n",
    "    \n",
    "    add sp, sp, 16     // освобождаем ранее выделенную память на стеке\n",
    "    \n",
    "    ret\n",
    "    \n",
    "    .section .rodata\n",
    "format_str:\n",
    "    .string \"%ld\""
   ]
  },
  {
   "cell_type": "markdown",
   "id": "00cbf681",
   "metadata": {},
   "source": [
    "## Как тестировать ассемблерный код\n",
    "\n",
    "Давайте протестируем функцию `get`, реализованную в `func_call.S`. Для этого вызовем ее из кода на C."
   ]
  },
  {
   "cell_type": "code",
   "execution_count": 35,
   "id": "9e6b1ed6",
   "metadata": {},
   "outputs": [
    {
     "name": "stdout",
     "output_type": "stream",
     "text": [
      "#include <stdio.h>\r\n",
      "#include <stdint.h>\r\n",
      "\r\n",
      "int64_t get();\r\n",
      "\r\n",
      "int main()  {\r\n",
      "    int64_t read = get();\r\n",
      "\r\n",
      "    printf(\"Got: %ld\\n\", read);\r\n",
      "}\r\n"
     ]
    }
   ],
   "source": [
    "%cat main.c"
   ]
  },
  {
   "cell_type": "markdown",
   "id": "2eaadc27",
   "metadata": {},
   "source": [
    "`int64_t get()` - объявление функции, определение находится в `func_call.S`.\n",
    "\n",
    "Скомпилировать и запустить это можно так:\n",
    "```\n",
    "aarch64-linux-gnu-gcc func_call.S main.c -o main\n",
    "qemu-aarch64 main\n",
    "```"
   ]
  },
  {
   "cell_type": "code",
   "execution_count": null,
   "id": "0fe2e3e9",
   "metadata": {},
   "outputs": [],
   "source": []
  }
 ],
 "metadata": {
  "kernelspec": {
   "display_name": "Python 3 (ipykernel)",
   "language": "python",
   "name": "python3"
  },
  "language_info": {
   "codemirror_mode": {
    "name": "ipython",
    "version": 3
   },
   "file_extension": ".py",
   "mimetype": "text/x-python",
   "name": "python",
   "nbconvert_exporter": "python",
   "pygments_lexer": "ipython3",
   "version": "3.9.7"
  }
 },
 "nbformat": 4,
 "nbformat_minor": 5
}
