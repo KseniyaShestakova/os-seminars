{
 "cells": [
  {
   "cell_type": "markdown",
   "id": "3f60c667",
   "metadata": {},
   "source": [
    "# Представление целых и вещественных чисел и строк"
   ]
  },
  {
   "cell_type": "markdown",
   "id": "e01e9b4e",
   "metadata": {},
   "source": [
    "##  Целочисленная арифметика\n",
    "Для операций сложения, вычитания, умножения знаковость числа не важна. Для $<, >, /$ важна. Сравнение знакового и беззнакового числа - UB!\n",
    "### Беззнаковые числа\n",
    "Если рассматриваем $n$-битные беззнаковые целые числа, то операция сложения над ними аналогична операции сложения в группе $\\mathbb{Z}_{2^n}$. Ситуация, когда результат сложения (в смысле $\\mathbb{Z})$ не помещается в $n$ бит, называется *переполнением*.\n",
    "\n",
    "### Знаковые числа\n",
    "Переполнение для знаковых чисел - UB! Компилятор по умолчанию считает, что переполнения знаковых чисел не произойдет, и может использовать это для оптимизаций."
   ]
  },
  {
   "cell_type": "code",
   "execution_count": 3,
   "id": "bb048eee",
   "metadata": {},
   "outputs": [
    {
     "name": "stdout",
     "output_type": "stream",
     "text": [
      "#include <stdio.h>\n",
      "#include <stdint.h>\n",
      "#include <stdbool.h>\n",
      "\n",
      "bool check_inc(int32_t x) {\n",
      "    return x < x + 1;\n",
      "}\n",
      "\n",
      "bool check_uinc(uint32_t x) {\n",
      "    return x < x + 1;\n",
      "}\n",
      "\n",
      "\n",
      "int main() {\n",
      "    int32_t signed_int = INT32_MAX;\n",
      "    printf(\"Signed check for %d: %d\\n\", signed_int, check_inc(signed_int));\n",
      "    printf(\"Increment for %d: %d\\n\", signed_int, signed_int + 1);\n",
      "\n",
      "    uint32_t unsigned_int = UINT32_MAX;\n",
      "    printf(\"Unsigned check for %u: %u\\n\", unsigned_int, check_uinc(unsigned_int));\n",
      "    printf(\"Increment for %u: %u\\n\", unsigned_int, unsigned_int + 1);\n",
      "    \n",
      "}\n"
     ]
    }
   ],
   "source": [
    "%%bash\n",
    "cat overflow.c"
   ]
  },
  {
   "cell_type": "markdown",
   "id": "32aff66c",
   "metadata": {},
   "source": [
    "Посмотрим, во что превращаются функции `check_inc` и `check_uinc` при компиляции."
   ]
  },
  {
   "cell_type": "code",
   "execution_count": 5,
   "id": "f1c3f268",
   "metadata": {},
   "outputs": [
    {
     "name": "stdout",
     "output_type": "stream",
     "text": [
      "Dump of assembler code for function check_inc:\n",
      "   0x00000000000011d0 <+0>:\tendbr64 \n",
      "   0x00000000000011d4 <+4>:\tmov    $0x1,%eax\n",
      "   0x00000000000011d9 <+9>:\tret    \n",
      "End of assembler dump.\n",
      "Dump of assembler code for function check_uinc:\n",
      "   0x00000000000011e0 <+0>:\tendbr64 \n",
      "   0x00000000000011e4 <+4>:\tcmp    $0xffffffff,%edi\n",
      "   0x00000000000011e7 <+7>:\tsetne  %al\n",
      "   0x00000000000011ea <+10>:\tret    \n",
      "End of assembler dump.\n"
     ]
    }
   ],
   "source": [
    "%%bash\n",
    "gcc -O3 -g overflow.c -o overflow\n",
    "gdb overflow -batch -ex=\"disass check_inc\" -ex=\"disass check_uinc\""
   ]
  },
  {
   "cell_type": "markdown",
   "id": "7b17e4f5",
   "metadata": {},
   "source": [
    "Словить переполнение можно с помощью санитайзера."
   ]
  },
  {
   "cell_type": "code",
   "execution_count": 6,
   "id": "68abe423",
   "metadata": {},
   "outputs": [
    {
     "name": "stderr",
     "output_type": "stream",
     "text": [
      "overflow.c:17:5: runtime error: signed integer overflow: 2147483647 + 1 cannot be represented in type 'int'\n"
     ]
    },
    {
     "name": "stdout",
     "output_type": "stream",
     "text": [
      "Signed check for 2147483647: 1\n",
      "Increment for 2147483647: -2147483648\n",
      "Unsigned check for 4294967295: 0\n",
      "Increment for 4294967295: 0\n"
     ]
    }
   ],
   "source": [
    "%%bash\n",
    "gcc -O0 -g -fsanitize=undefined overflow.c -o overflow\n",
    "./overflow"
   ]
  },
  {
   "cell_type": "markdown",
   "id": "0819ccbc",
   "metadata": {},
   "source": [
    "Для обработки переполнений можно использовать, например, насыщением по правилу: $a + b = \\min(a + b, MAX)$. Можно сделать с помощью встроенных функций, можно реализовать самим."
   ]
  },
  {
   "cell_type": "code",
   "execution_count": 7,
   "id": "8f7218dd",
   "metadata": {},
   "outputs": [
    {
     "name": "stderr",
     "output_type": "stream",
     "text": [
      "UsageError: Cell magic `%%cpp` not found.\n"
     ]
    }
   ],
   "source": [
    "%%cpp\n",
    "\n",
    "#include <assert.h>\n",
    "#include <stdint.h>\n",
    "\n",
    "unsigned int sat_add(unsigned int x, unsigned int y) {\n",
    "    unsigned int z;\n",
    "    // Функция, которая обрабатывает выставленный процессором флаг и возвращает его явно\n",
    "    if (__builtin_uadd_overflow(x, y, &z)) {\n",
    "        return -1;\n",
    "    }\n",
    "    return z;\n",
    "}\n",
    "\n",
    "int sat_add_handmade(int a, int b) {\n",
    "    if (b > 0) {\n",
    "        return (a < INT32_MAX) ? a + b : INT32_MAX;\n",
    "    }\n",
    "    if (a > 0) return a + b;\n",
    "    return (INT32_MIN - a < b) ? a + b : INT32_MIN;\n",
    "}"
   ]
  },
  {
   "cell_type": "code",
   "execution_count": 9,
   "id": "85d4469c",
   "metadata": {},
   "outputs": [
    {
     "name": "stdout",
     "output_type": "stream",
     "text": [
      "typedef unsigned int uint;\n",
      "\n",
      "int sum(int x, int y) { return x + y; }\n",
      "uint usum(uint x, uint y) { return x + y; }\n",
      "\n",
      "int mul(int x, int y) { return x * y; }\n",
      "uint umul(uint x, uint y) { return x * y; }\n",
      "\n",
      "int cmp(int x, int y) { return x < y; }\n",
      "int ucmp(uint x, uint y) { return x < y; }\n",
      "\n",
      "int div(int x, int y) { return x / y; }\n",
      "int udiv(uint x, uint y) { return x / y; }\n",
      "\n",
      "int main() {}\n"
     ]
    }
   ],
   "source": [
    "%%bash\n",
    "cat int_operations.c"
   ]
  },
  {
   "cell_type": "code",
   "execution_count": 14,
   "id": "827a6f76",
   "metadata": {},
   "outputs": [
    {
     "name": "stdout",
     "output_type": "stream",
     "text": [
      "Dump of assembler code for function sum:\n",
      "   0x0000000000001139 <+0>:\tlea    (%rdi,%rsi,1),%eax\n",
      "   0x000000000000113c <+3>:\tret    \n",
      "End of assembler dump.\n",
      "Dump of assembler code for function usum:\n",
      "   0x000000000000113d <+0>:\tlea    (%rdi,%rsi,1),%eax\n",
      "   0x0000000000001140 <+3>:\tret    \n",
      "End of assembler dump.\n",
      "Dump of assembler code for function div:\n",
      "   0x000000000000115d <+0>:\tmov    %edi,%eax\n",
      "   0x000000000000115f <+2>:\tcltd   \n",
      "   0x0000000000001160 <+3>:\tidiv   %esi\n",
      "   0x0000000000001162 <+5>:\tret    \n",
      "End of assembler dump.\n",
      "Dump of assembler code for function udiv:\n",
      "   0x0000000000001163 <+0>:\tmov    %edi,%eax\n",
      "   0x0000000000001165 <+2>:\txor    %edx,%edx\n",
      "   0x0000000000001167 <+4>:\tdiv    %esi\n",
      "   0x0000000000001169 <+6>:\tret    \n",
      "End of assembler dump.\n",
      "Dump of assembler code for function cmp:\n",
      "   0x000000000000114d <+0>:\txor    %eax,%eax\n",
      "   0x000000000000114f <+2>:\tcmp    %esi,%edi\n",
      "   0x0000000000001151 <+4>:\tsetl   %al\n",
      "   0x0000000000001154 <+7>:\tret    \n",
      "End of assembler dump.\n",
      "Dump of assembler code for function ucmp:\n",
      "   0x0000000000001155 <+0>:\txor    %eax,%eax\n",
      "   0x0000000000001157 <+2>:\tcmp    %esi,%edi\n",
      "   0x0000000000001159 <+4>:\tsetb   %al\n",
      "   0x000000000000115c <+7>:\tret    \n",
      "End of assembler dump.\n"
     ]
    }
   ],
   "source": [
    "%%bash\n",
    "gcc -O0 -g int_operations.c -o int_operations -Os -Wl,--gc-sections -fno-asynchronous-unwind-tables -fcf-protection=branch -mmanual-endbr\n",
    "gdb int_operations -batch -ex=\"disass sum\" -ex=\"disass usum\"\n",
    "gdb int_operations -batch -ex=\"disass div\" -ex=\"disass udiv\"\n",
    "gdb int_operations -batch -ex=\"disass cmp\" -ex=\"disass ucmp\""
   ]
  },
  {
   "cell_type": "markdown",
   "id": "e8582e9a",
   "metadata": {},
   "source": [
    "Различие `cmp` и `ucmp` - в устанавливаемых флагах."
   ]
  },
  {
   "cell_type": "markdown",
   "id": "695ecc58",
   "metadata": {},
   "source": [
    "### Про размер целочисленных типов\n",
    "\n",
    "Согласно стандарту языка C:\n",
    "\n",
    "***\n",
    "\n",
    "#### &nbsp; &nbsp; &nbsp;_тип_ &nbsp;&nbsp;&nbsp;&nbsp;&nbsp;&nbsp;&nbsp;&nbsp;&nbsp;&nbsp;&nbsp;&nbsp;&nbsp;&nbsp;&nbsp;&nbsp; &nbsp;&nbsp;&nbsp;&nbsp; &nbsp; &nbsp; &nbsp; &nbsp; &nbsp; &nbsp; &nbsp; &nbsp; &nbsp; &nbsp; &nbsp;&nbsp; &nbsp; &nbsp; &nbsp; _размер_\n",
    "    \n",
    "- __(unsigned) char__ &nbsp; &nbsp; &nbsp; &nbsp; &nbsp; &nbsp; &nbsp; &nbsp; &nbsp; &nbsp; &nbsp; &nbsp; &nbsp; &nbsp;$\\ge$ **__8__** бит, обычно **__8__** \n",
    "    \n",
    "\n",
    "- __(unsigned) short__ &nbsp; &nbsp; &nbsp; &nbsp; &nbsp; &nbsp; &nbsp; &nbsp; &nbsp; &nbsp; &nbsp;&nbsp;&nbsp; &nbsp;$\\ge$ **__16__** бит\n",
    "    \n",
    "\n",
    "- __(unsigned) int__ &nbsp; &nbsp; &nbsp; &nbsp; &nbsp; &nbsp; &nbsp; &nbsp; &nbsp; &nbsp; &nbsp;&nbsp; &nbsp;&nbsp;&nbsp;&nbsp; &nbsp; $\\ge$ **__16__** бит, обычно **__32__**\n",
    "\n",
    "    \n",
    "- __(unsigned) long__ &nbsp; &nbsp; &nbsp; &nbsp; &nbsp; &nbsp; &nbsp; &nbsp; &nbsp; &nbsp; &nbsp; &nbsp; &nbsp; &nbsp; $\\ge$ **__32__** бит\n",
    "\n",
    "\n",
    "- __(unsigned) long long__ &nbsp; &nbsp; &nbsp; &nbsp; &nbsp; &nbsp; &nbsp; &nbsp; &nbsp; &nbsp; $\\ge$ **__64__** бит, обычно **__64__**\n",
    "    \n",
    "   \n",
    " </font> \n",
    "    \n",
    "Знаковость типа `char` не определена, для ее определения существуют опции компилятора `-fsigned-char` и `-funsigned-char`.\n",
    "\n",
    "Не стоит полагаться на размерность целочисленного типа, лучше явно проверять ее с помощью оператора `sizeof`.\n",
    "\n",
    "Для большей определенности стоит пользоваться типами с фиксированной разрядностью: `int32_t`, `uint32_t`, `int64_t` и т.д. Для того, чтобы использовать их, надо прописать include-ы: \n",
    "```\n",
    "#include <stdint.h>\n",
    "#include <inttypes.h>\n",
    "```"
   ]
  },
  {
   "cell_type": "markdown",
   "id": "3d436918",
   "metadata": {},
   "source": [
    "### Битовые операции\n",
    "* `^` - XOR\n",
    "* `|` - OR\n",
    "* `&` - AND\n",
    "* `~` - отрицание\n",
    "* `>>` - битовый сдвиг вправо (деление на два)\n",
    "* `<<` - битовый сдвиг влево (умножение на два для беззнаковых чисел)\n",
    "\n",
    "Для отрицательных чисел поведение битовых операторов не определено.\n",
    "\n",
    "Немного задачек:\n",
    "1. Получить $i$-ый бит числа $x$\n",
    "2. Заменить $i$-ый бит числа $x$ на $b$\n",
    "3. Занулить $i$-ый бит числа $x$\n",
    "4. Инвертировать $i$-ый бит числа $x$\n",
    "5. Получить биты числа $x$ с $i$-ого по $j$-ый невключительно как беззнаковое число\n",
    "6. Скопировать в биты числа $x$ с $i$-ого по $j$-ый невключительно младшие биты числа $y$\n",
    "\n",
    "Здесь $x,\\ y$ - беззнаковые числа, $b$ - некоторый бит."
   ]
  },
  {
   "cell_type": "markdown",
   "id": "411de7c3",
   "metadata": {},
   "source": [
    "## Вещественные типы\n",
    "Вещественные типы - это `float` и `double`. Значение высчитывается по формуле $(-1)^S \\times M \\times 2^{E - b} $, где $S$ - знак (sign), $M$ - мантисса (mantissa), $E$ - экспонента (exponenta), $b$ - смещение экспоненты (bias)\n",
    "* `float`: $|S| = 1,\\ |M| = 23,\\ |E| = 8$\n",
    "* `double`: $|S| = 1,\\ |M| = 52,\\ |E| = 11$\n",
    "\n",
    "\n",
    "Классификация значений по стандарту [IEEE 754](http://www.softelectro.ru/ieee754.html):\n",
    "\n",
    "|_S_|[|_Exp_|]|[|_Mantissa_|]|<center>_Type_</center>|\n",
    "|-|-|---|-|-|------|-|---------------------|\n",
    "|0|0|.......|0|0|... ... ... ... ...|0|<center>__PlusZero__</center>|\n",
    "|1|0|.......|0|0|... ... ... ... ...|0|<center>__MinusZero__</center>|\n",
    "|0|0|.......|0|x|... ... ... ... ...|x|<center>__PlusDenormalized__</center>|\n",
    "|1|0|.......|0|x|... ... ... ... ...|x|<center>__MinusDenormalized__</center>|\n",
    "|0|1|.......|1|0|... ... ... ... ...|0|<center>__PlusInf__</center>|\n",
    "|1|1|.......|1|0|... ... ... ... ...|0|<center>__MinusInf__</center>|\n",
    "|x|1|.......|1|1|x. ... ... ... .x|x|<center>__QuietNaN__</center>|\n",
    "|x|1|.......|1|0|x. ... ... ... .x|x|<center>__SignalingNaN__</center>|\n",
    "\n",
    "Немного о мотивации названий: если в ходе вычислений получается SignalingNaN, то будет выслан сигнал, в случае с QuietNaN программа продолжает работать. Например, SignalingNaN может получиться при делении на 0.\n",
    "\n",
    "Значения, которые не подходят ни под одну из строк этой таблицы, называются регулярными."
   ]
  },
  {
   "cell_type": "markdown",
   "id": "e239a5ac",
   "metadata": {},
   "source": [
    "## Как получить битовое представление числа?"
   ]
  },
  {
   "cell_type": "code",
   "execution_count": 17,
   "id": "baee6db2",
   "metadata": {},
   "outputs": [
    {
     "name": "stdout",
     "output_type": "stream",
     "text": [
      "#include <stdio.h>\n",
      "#include <inttypes.h>\n",
      "#include <stdint.h>\n",
      "#include <limits.h>\n",
      "\n",
      "void output_int(int64_t a_int) {\n",
      "    for (size_t i = sizeof(a_int) * CHAR_BIT; i > 0; --i) {\n",
      "        printf(\"%ld\", (a_int & ((int64_t)1 << (i-1))) >> (i - 1));\n",
      "     }\n",
      "     printf(\"\\n\");\n",
      "\n",
      "}\n",
      "\n",
      "int64_t ptr_cast(double a) {\n",
      "    double* a_ptr_double = &a;\n",
      "    int64_t* a_ptr_int = (int64_t*)a_ptr_double;\n",
      " \n",
      "    int64_t a_int = *a_ptr_int;\n",
      "    return a_int;\n",
      "}\n",
      "\n",
      "typedef union {\n",
      "    double double_value;\n",
      "    uint64_t uint_value;\n",
      "} double_or_uint;\n",
      "\n",
      "\n",
      "int64_t union_cast(double a) {\n",
      "    double_or_uint u;\n",
      "\n",
      "    u.double_value = a;\n",
      "\n",
      "    return u.uint_value;\n",
      "}\n",
      "\n",
      "\n",
      "\n",
      "int main() {\n",
      "    double a = 0.01;\n",
      "\n",
      "    printf(\"Bit presentation of %lf, ptr_cast: \\n\", a);\n",
      "    output_int(ptr_cast(a));\n",
      "\n",
      "    printf(\"Bit presentation of %lf, union_cast: \\n\", a);\n",
      "    output_int(union_cast(a));\n",
      "\n",
      "    return 0;\n",
      "}\n",
      "--------------------------------------------------------\n",
      "Bit presentation of 0.010000, ptr_cast: \n",
      "0011111110000100011110101110000101000111101011100001010001111011\n",
      "Bit presentation of 0.010000, union_cast: \n",
      "0011111110000100011110101110000101000111101011100001010001111011\n"
     ]
    }
   ],
   "source": [
    "%%bash\n",
    "cat bit_cast.c\n",
    "gcc bit_cast.c -o bit_cast\n",
    "echo '--------------------------------------------------------'\n",
    "./bit_cast"
   ]
  },
  {
   "cell_type": "markdown",
   "id": "be42123f",
   "metadata": {},
   "source": [
    "## Кодировки \n",
    "Терминология:\n",
    "* Character — что-то, что мы хотим представить\n",
    "* Character set — какое-то множество символов\n",
    "* Coded character set (CCS) — отображение символов в уникальные номера\n",
    "* Code point — уникальный номер какого-то символа\n",
    "\n",
    "---\n",
    "\n",
    "### ASCII\n",
    "* American Standard Code for Information Interchange, 1963 год\n",
    "* 7-ми битная кодировка, то есть кодирует 128 различных символов\n",
    "* Control characters: c 0 по 31 включительно, непечатные символы, мета-информация для терминалов\n",
    "\n",
    "\n",
    "### Unicode\n",
    "* Codespace: 0 до 0x10FFFF (~1.1 млн. code points)\n",
    "* Code point'ы обозначаются как U+<число>\n",
    "* `ℵ` = U+2135\n",
    "* `r` = U+0072\n",
    "* Unicode — не кодировка: он не определяет как набор байт трактовать как characters. Кодировка - это отображение байт в битовое представление, она задается UTF-32, UTF-8\n",
    "\n",
    "\n",
    "### UTF-32\n",
    "* Использует всегда 32 бита (4 байта) для кодировки\n",
    "* Используется во внутреннем представлении строк в некоторых языках (например, Python)\n",
    "* Позволяет обращаться к произвольному code point'у строки за O(1)\n",
    "* BOM определяет little vs big endian\n",
    "\n",
    "\n",
    "### UTF-8\n",
    "* Unicode Transformation Format\n",
    "* Определяет способ как будут преобразовываться code point'ы\n",
    "* Переменная длина: от 1 байта (ASCII) до 4 байт\n",
    "\n",
    "---\n",
    "### UTF-8\n",
    "![center width:1000px](./utf8.svg)"
   ]
  },
  {
   "cell_type": "code",
   "execution_count": null,
   "id": "3f56b887",
   "metadata": {},
   "outputs": [],
   "source": []
  }
 ],
 "metadata": {
  "kernelspec": {
   "display_name": "Python 3 (ipykernel)",
   "language": "python",
   "name": "python3"
  },
  "language_info": {
   "codemirror_mode": {
    "name": "ipython",
    "version": 3
   },
   "file_extension": ".py",
   "mimetype": "text/x-python",
   "name": "python",
   "nbconvert_exporter": "python",
   "pygments_lexer": "ipython3",
   "version": "3.9.7"
  }
 },
 "nbformat": 4,
 "nbformat_minor": 5
}
